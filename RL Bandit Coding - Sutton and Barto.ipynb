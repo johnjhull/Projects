{
 "cells": [
  {
   "cell_type": "markdown",
   "metadata": {},
   "source": [
    "# Multi-Armed Bandits\n",
    "\n",
    "This notebook works through Python implementations of the elements mentioned in Chapter 2 of Sutton and Barto, *Reinforcement Learning, An Introduction*. We use the math and random module instead of something with more functions built in like Numpy (just for the fun of it). "
   ]
  },
  {
   "cell_type": "code",
   "execution_count": 1,
   "metadata": {},
   "outputs": [],
   "source": [
    "import math\n",
    "import random\n",
    "import time\n",
    "import matplotlib.pyplot as plt\n",
    "import numpy as np\n",
    "from numpy import inf\n",
    "from tqdm import tqdm\n",
    "np.seterr(divide='ignore')\n",
    "%matplotlib inline"
   ]
  },
  {
   "cell_type": "markdown",
   "metadata": {},
   "source": [
    "## Build the simulated environment.\n",
    "\n",
    "Make a function to generate the possible actions, or arms, of the $k$-armed bandit problem. It is enough to generate the $q_{*}(a_{i})$ for actions $a_{1},\\ldots,a_{k}$. The second function adjusts the arms for a non-stationary problem."
   ]
  },
  {
   "cell_type": "code",
   "execution_count": 2,
   "metadata": {},
   "outputs": [
    {
     "name": "stdout",
     "output_type": "stream",
     "text": [
      "[[-0.12805820108555946, 1], [0.670079440460194, 1], [0.41609745978771157, 1]]\n",
      "[[-0.1334170220550943, 1], [0.6742406265414078, 1], [0.41734259424549736, 1]]\n",
      "[[0, 0.2702388046704123], [0, 4.116055932114601], [0, 1.0155353776385574]]\n"
     ]
    }
   ],
   "source": [
    "def generate_gaussian_arms(number_of_arms, \n",
    "                           mean = 0, \n",
    "                           standard_deviation = 1, \n",
    "                           arm_deviation = 1,\n",
    "                           dev_mode = 'uniform_deviations',\n",
    "                           mean_mode = 'gaussian'):\n",
    "    # Note: uniform arms implies the standard deviation of rewards for each arms is the same.\n",
    "    # Mixed arms means it is not. \n",
    "    assert dev_mode in ['uniform_deviations', 'mixed_deviations'], 'Deviation modes: uniform_deviations, mixed_deviations.' \n",
    "    assert mean_mode in ['gaussian', 'equal'], 'Deviation modes: gaussian, equal.' \n",
    "    if dev_mode == 'mixed_deviations':\n",
    "        arm_deviations = [math.fabs(random.gauss(1,1)) for i in range(number_of_arms)]\n",
    "    else:\n",
    "        arm_deviations = [arm_deviation for i in range(number_of_arms)]\n",
    "    if mean_mode == 'equal':\n",
    "        arm_means = [mean for i in range(number_of_arms)]\n",
    "    else:\n",
    "        arm_means = [random.gauss(mean, standard_deviation) for i in range(number_of_arms)]\n",
    "    return [[arm_means[i], arm_deviations[i]] for i in range(number_of_arms)]\n",
    "\n",
    "def adjust_arms_gaussian(arms, mean = 0, standard_deviation = .01):\n",
    "    return [[x + random.gauss(mean, standard_deviation), y] for [x,y] in arms]\n",
    "\n",
    "sample_arms = generate_gaussian_arms(3)\n",
    "print(sample_arms)\n",
    "print(adjust_arms_gaussian(sample_arms))\n",
    "\n",
    "sample_arms = generate_gaussian_arms(3, dev_mode = 'mixed_deviations', mean_mode = 'equal')\n",
    "print(sample_arms)"
   ]
  },
  {
   "cell_type": "markdown",
   "metadata": {},
   "source": [
    "## Make a learner.\n",
    "\n",
    "The main characteristic of a learner is the value function, which is the set $$\\{Q_{t}(a_{1}),\\ldots,Q_{t}(a_{k})\\}.$$ The policy is also necessary, which is the function that selects the action according to the value function, as is the learning mechanism, which is how the learner evaluates rewards and updates its value function. We also have control over initialization. We will construct a suite of attributes that our learner could possess, as is outlined in Chapter 2.  \n",
    "\n",
    "So really our learner's brain will be a list of the $Q_{t}(a_{i}), N_{t}(a_{i})$ and we simply need functions to update that list. Also, tack on a total reward to track how the learner has performed. "
   ]
  },
  {
   "cell_type": "code",
   "execution_count": 3,
   "metadata": {},
   "outputs": [],
   "source": [
    "# Challenge: there are many inefficiencies here.  Put in an object oriented framework.\n",
    "\n",
    "def initialize_learner(number_of_arms, \n",
    "                       mode = 'realistic', \n",
    "                       mean = 0, \n",
    "                       standard_deviation = 1, \n",
    "                       optimistic_parameter = 5):\n",
    "    \n",
    "    assert mode in ['realistic', 'optimistic'], 'Modes: realistic or optimistic initialization.'\n",
    "    if mode == 'optimistic':\n",
    "        learner = [[mean + optimistic_parameter*standard_deviation, 0] for i in range(number_of_arms)]\n",
    "        learner.append(0)\n",
    "    else:\n",
    "        learner = [[0,0] for i in range(number_of_arms)]\n",
    "        learner.append(0)\n",
    "    return learner\n",
    "\n",
    "def get_estimated_values(learner):\n",
    "    return [x for [x,y] in learner[:len(learner) - 1]]\n",
    "\n",
    "def get_number_of_attempts(learner):\n",
    "    return [y for [x,y] in learner[:len(learner) - 1]]\n",
    "\n",
    "def list_argmax(numerical_list):\n",
    "    max_list = [0]\n",
    "    for i in range(1,len(numerical_list)):\n",
    "        if numerical_list[i] > numerical_list[max_list[0]]:\n",
    "            max_list = [i]\n",
    "        elif numerical_list[i] == numerical_list[max_list[0]]:\n",
    "            max_list.append(i)\n",
    "    return(max_list[random.randint(0,len(max_list)-1)])\n",
    "\n",
    "def UCB_factor(step, number_of_attempts):\n",
    "    if step > 0 and number_of_attempts > 0:\n",
    "        return math.sqrt(math.log(step)/number_of_attempts)\n",
    "    else:\n",
    "        return 1\n",
    "        \n",
    "# We allow for an epsilon-greedy implementation of UCB.  For UCB to be used as in the text,\n",
    "# mode should be set to greedy when UCB is used. \n",
    "\n",
    "def decide(learner, \n",
    "           step, \n",
    "           mode = 'greedy', \n",
    "           function = 'argmax', \n",
    "           epsilon = .1, \n",
    "           UCB_param = 2):\n",
    "    \n",
    "    assert mode in ['greedy', 'epsilon_greedy'], 'Modes: greedy or epsilon_greedy.'\n",
    "    assert function in ['argmax', 'UCB'], 'Function must be argmax or UCB.'\n",
    "    estimated_values = get_estimated_values(learner)\n",
    "    if mode == 'epsilon_greedy':\n",
    "        if random.uniform(0,1) < epsilon:\n",
    "            return random.randint(0, len(estimated_values)-1)\n",
    "    if function == 'UCB':\n",
    "        UCB_values = [x + UCB_param*UCB_factor(step, y) for [x,y] in learner[:len(learner) - 1]]\n",
    "        return list_argmax(UCB_values)\n",
    "    else:\n",
    "        return list_argmax(estimated_values)\n",
    "    \n",
    "def update_learner(learner, \n",
    "                   choice_reward, \n",
    "                   mode = 'sample_average', \n",
    "                   step_param = .1):\n",
    "    \n",
    "    assert mode in ['sample_average', 'constant_step', 'unbiased_constant_step'], 'Modes: sample_average, constant_step, or unbiased_constant_step.'\n",
    "    index = choice_reward[0]\n",
    "    reward = choice_reward[1]\n",
    "    learner[index][1] += 1\n",
    "    learner[-1] += reward\n",
    "    if mode == 'constant_step':\n",
    "        learner[index][0] = learner[index][0] + step_param * (reward - learner[index][0])\n",
    "        return learner\n",
    "    elif mode == 'unbiased_constant_step':\n",
    "        # Need to dynamically program o_bar. \n",
    "        o_bar = 0\n",
    "        for i in range(learner[index][1]):\n",
    "            o_bar += o_bar + step_param * (1 - o_bar)\n",
    "        beta = step_param / o_bar\n",
    "        learner[index][0] = learner[index][0] + beta * (reward - learner[index][0])\n",
    "        return learner\n",
    "    else:\n",
    "        learner[index][0] = learner[index][0] + (reward - learner[index][0])/learner[index][1]\n",
    "        return learner"
   ]
  },
  {
   "cell_type": "markdown",
   "metadata": {},
   "source": [
    "## Give the learner agency in the environment. "
   ]
  },
  {
   "cell_type": "code",
   "execution_count": 4,
   "metadata": {},
   "outputs": [],
   "source": [
    "def pull_arm(arms, choice):\n",
    "    return random.gauss(arms[choice][0], arms[choice][1])"
   ]
  },
  {
   "cell_type": "markdown",
   "metadata": {},
   "source": [
    "## Run an experiment with 1000 steps.\n",
    "\n",
    "Run an experiment and then print the learner to see how it did, as in 2.2."
   ]
  },
  {
   "cell_type": "code",
   "execution_count": 5,
   "metadata": {},
   "outputs": [],
   "source": [
    "def get_optimal_arm(arms):\n",
    "    return list_argmax([x for [x,y] in arms])\n",
    "\n",
    "def optimal_action_ratio(step, learner, arms):\n",
    "    return learner[get_optimal_arm(arms)][1] / (step + 1)\n",
    "\n",
    "def optimal_comparison(learner, arms):\n",
    "    if list_argmax(get_number_of_attempts(learner)) == get_optimal_arm(arms):\n",
    "        print('The learner converged on the optimal strategy.')\n",
    "        return 1\n",
    "    else:\n",
    "        print('The learner did not converge on the optimal strategy.')\n",
    "        return 0"
   ]
  },
  {
   "cell_type": "code",
   "execution_count": 6,
   "metadata": {},
   "outputs": [
    {
     "name": "stdout",
     "output_type": "stream",
     "text": [
      "Total time: 0.0060 seconds.\n",
      "Total reward: 1029.4517 points.\n",
      "Total optimal action ratio: 0.8960\n",
      "The learner converged on the optimal strategy.\n"
     ]
    },
    {
     "data": {
      "text/plain": [
       "1"
      ]
     },
     "execution_count": 6,
     "metadata": {},
     "output_type": "execute_result"
    }
   ],
   "source": [
    "number_of_arms = 10\n",
    "number_of_steps = 1000\n",
    "\n",
    "arms = generate_gaussian_arms(number_of_arms)\n",
    "learner = initialize_learner(number_of_arms, mode = 'optimistic')\n",
    "\n",
    "# Time the experiment.\n",
    "start_time = time.time()\n",
    "\n",
    "for step in range(number_of_steps):\n",
    "    choice = decide(learner, step, mode = 'epsilon_greedy', function = 'argmax')\n",
    "    choice_reward = [choice, pull_arm(arms, choice)]\n",
    "    learner = update_learner(learner, choice_reward)\n",
    "\n",
    "total_time = time.time() - start_time\n",
    "print('Total time: {:1.4f} seconds.'.format(total_time))\n",
    "print('Total reward: {:1.4f} points.'.format(learner[-1]))\n",
    "print('Total optimal action ratio: {:1.4f}'.format(optimal_action_ratio(number_of_steps - 1, learner, arms)))\n",
    "optimal_comparison(learner, arms)"
   ]
  },
  {
   "cell_type": "markdown",
   "metadata": {},
   "source": [
    "## Chapter Coding Exercises:"
   ]
  },
  {
   "cell_type": "markdown",
   "metadata": {},
   "source": [
    "### Exercise 2.5:\n",
    "\n",
    "Design and conduct an experiment to demonstrate the difficulties that sample-average methods have for nonstationary problems. Use a modified version of the 10-armed testbed in which all the $q_{*}(a)$ start out equal and then take independent random walks (say by adding a normally distributed increment with mean zero and standard deviation $0.01$ to all the $q_{*}(a)$ on each step). Prepare plots like Figure 2.2 for an action-value method using sample averages, incrementally computed,\n",
    "and another action-value method using a constant step-size parameter, $\\alpha = 0.1$. Use $\\epsilon = 0.1$ and longer runs, say of 10,000 steps."
   ]
  },
  {
   "cell_type": "markdown",
   "metadata": {},
   "source": [
    "#### Prepare plots.\n",
    "\n",
    "This includes a mechanism to conduct the experiments over 2000 learners and keep track of the reward at each step and whether or not the learner chose the optimal action. \n",
    "\n",
    "##### Note:\n",
    "\n",
    "When running experiments, each learner was subjected to a different set of arms, and I'm not sure if this is how the book does it (it may generate a set of arms and set 2000 learners upon it).  Either way, one still sees the trends, though the data may be noisier. "
   ]
  },
  {
   "cell_type": "code",
   "execution_count": 7,
   "metadata": {},
   "outputs": [
    {
     "name": "stdout",
     "output_type": "stream",
     "text": [
      "Trial A, experiment 500 complete.\n",
      "Trial A, experiment 1000 complete.\n",
      "Trial A, experiment 1500 complete.\n",
      "Trial A complete in 357.5 seconds.\n",
      "Trial B, experiment 500 complete.\n",
      "Trial B, experiment 1000 complete.\n",
      "Trial B, experiment 1500 complete.\n",
      "Trial B complete in 370.5 seconds.\n"
     ]
    }
   ],
   "source": [
    "number_of_arms = 10\n",
    "number_of_steps = 10000\n",
    "number_of_experiments = 2000\n",
    "\n",
    "# Problem-specific counters.\n",
    "total_rewards_A = [0 for i in range(number_of_steps)]\n",
    "total_optimal_actions_A = [0 for i in range(number_of_steps)]\n",
    "\n",
    "total_rewards_B = [0 for i in range(number_of_steps)]\n",
    "total_optimal_actions_B = [0 for i in range(number_of_steps)]\n",
    "\n",
    "# Trial A: sample-average method.\n",
    "start_time_A = time.time()\n",
    "\n",
    "for experiment in range(number_of_experiments):\n",
    "    arms = generate_gaussian_arms(number_of_arms, mean_mode = 'equal')\n",
    "    learner = initialize_learner(number_of_arms)\n",
    "    for step in range(number_of_steps):\n",
    "        optimal_choice = get_optimal_arm(arms)\n",
    "        choice = decide(learner, step, mode = 'epsilon_greedy', function = 'argmax')\n",
    "        choice_reward = [choice, pull_arm(arms, choice)]\n",
    "        total_rewards_A[step] += choice_reward[1]\n",
    "        if choice_reward[0] == optimal_choice:\n",
    "            total_optimal_actions_A[step] += 1\n",
    "        learner = update_learner(learner, choice_reward)\n",
    "        arms = adjust_arms_gaussian(arms)\n",
    "    if experiment > 0 and experiment % 500 == 0:\n",
    "        print('Trial A, experiment {:d} complete.'.format(experiment))\n",
    "        \n",
    "\n",
    "total_time_A = time.time() - start_time_A\n",
    "print('Trial A complete in {:1.1f} seconds.'.format(total_time_A))\n",
    "\n",
    "# Trial B: constant-step method.\n",
    "start_time_B = time.time()\n",
    "\n",
    "for experiment in range(number_of_experiments):\n",
    "    arms = generate_gaussian_arms(number_of_arms, mean_mode = 'equal')\n",
    "    learner = initialize_learner(number_of_arms)\n",
    "    for step in range(number_of_steps):\n",
    "        optimal_choice = get_optimal_arm(arms)\n",
    "        choice = decide(learner, step, mode = 'epsilon_greedy', function = 'argmax')\n",
    "        choice_reward = [choice, pull_arm(arms, choice)]\n",
    "        total_rewards_B[step] += choice_reward[1]\n",
    "        if choice_reward[0] == optimal_choice:\n",
    "            total_optimal_actions_B[step] += 1\n",
    "        learner = update_learner(learner, choice_reward, mode = 'constant_step')\n",
    "        arms = adjust_arms_gaussian(arms)\n",
    "    if experiment > 0 and experiment % 500 == 0:\n",
    "        print('Trial B, experiment {:d} complete.'.format(experiment))\n",
    "\n",
    "total_time_B = time.time() - start_time_B\n",
    "print('Trial B complete in {:1.1f} seconds.'.format(total_time_B))\n",
    "\n",
    "trial_A_average_rewards = [x/number_of_experiments for x in total_rewards_A]\n",
    "trial_A_optimal_action_ratios = [x/number_of_experiments for x in total_optimal_actions_A]\n",
    "\n",
    "trial_B_average_rewards = [x/number_of_experiments for x in total_rewards_B]\n",
    "trial_B_optimal_action_ratios = [x/number_of_experiments for x in total_optimal_actions_B]"
   ]
  },
  {
   "cell_type": "markdown",
   "metadata": {},
   "source": [
    "#### Average reward by step."
   ]
  },
  {
   "cell_type": "code",
   "execution_count": 8,
   "metadata": {},
   "outputs": [
    {
     "data": {
      "image/png": "[encoded data removed]",
      "text/plain": [
       "<Figure size 432x288 with 1 Axes>"
      ]
     },
     "metadata": {
      "needs_background": "light"
     },
     "output_type": "display_data"
    }
   ],
   "source": [
    "plt.plot(trial_A_average_rewards, 'r', label = 'Sampled-Average Method')\n",
    "plt.plot(trial_B_average_rewards, 'g', label = 'Constant-Step Method')\n",
    "plt.axis([0, 10000, 0, 1.6])\n",
    "plt.xlabel('Step')\n",
    "plt.ylabel('Average Reward')\n",
    "plt.legend()\n",
    "plt.show()"
   ]
  },
  {
   "cell_type": "markdown",
   "metadata": {},
   "source": [
    "#### Percent optimal action by step."
   ]
  },
  {
   "cell_type": "code",
   "execution_count": 9,
   "metadata": {},
   "outputs": [
    {
     "data": {
      "image/png": "[encoded data removed]",
      "text/plain": [
       "<Figure size 432x288 with 1 Axes>"
      ]
     },
     "metadata": {
      "needs_background": "light"
     },
     "output_type": "display_data"
    }
   ],
   "source": [
    "plt.plot(trial_A_optimal_action_ratios, 'r', label = 'Sampled-Average Method')\n",
    "plt.plot(trial_B_optimal_action_ratios, 'g', label = 'Constant-Step Method')\n",
    "plt.axis([0, 10000, 0, 1])\n",
    "plt.xlabel('Step')\n",
    "plt.ylabel('Optimal-Action Ratio')\n",
    "plt.legend()\n",
    "plt.show()"
   ]
  },
  {
   "cell_type": "markdown",
   "metadata": {},
   "source": [
    "### Conclusions:\n",
    "\n",
    "The constant step method clearly outperformed the sampled-average method in the non-stationary setting."
   ]
  },
  {
   "cell_type": "markdown",
   "metadata": {},
   "source": [
    "## Object-Oriented Implementation\n",
    "\n",
    "We wrap the above into a class with the method `k_AB_Experiment.run()` producing all of the graphics and whatnot for the experiment. We'll use numpy to make arrays of learners to apply to a single problem updated in parallel."
   ]
  },
  {
   "cell_type": "code",
   "execution_count": 10,
   "metadata": {},
   "outputs": [],
   "source": [
    "# Numpy utility functions.\n",
    "def np_array_argmax(array):\n",
    "    # Modified argmax that chooses among ties randomly.\n",
    "    max_list = [0]\n",
    "    for i in range(1,len(array)):\n",
    "        if array[i] > array[max_list[0]]:\n",
    "            max_list = [i]\n",
    "        elif array[i] == array[max_list[0]]:\n",
    "            max_list.append(i)\n",
    "    return max_list[int(np.random.choice(len(max_list),1))]\n",
    "    \n",
    "    \n",
    "def np_argmax_along_rows(array):\n",
    "    return np.apply_along_axis(np_array_argmax, 1, array)\n",
    "\n",
    "# K-Armed Bandit experiment class.\n",
    "class k_AB_Experiment:\n",
    "    \n",
    "    # Class attributes:\n",
    "    problem_modes = ['stationary', 'non_stationary']\n",
    "    agent_to_bandit_modes = ['many_to_one', 'one_to_one']\n",
    "\n",
    "    def __init__(self, \n",
    "                 number_of_arms = 10,\n",
    "                 number_of_agents = 1,\n",
    "                 agent_to_bandit_mode = 'many_to_one',\n",
    "                 q_star_mean = 0,\n",
    "                 q_star_dev = 1,\n",
    "                 \n",
    "                 # Problem parameters.\n",
    "                 problem_mode = 'stationary',\n",
    "                 move_deviation = .01,\n",
    "                 \n",
    "                 # Bandit parameters.\n",
    "                 arm_mean_mode = 'gaussian',\n",
    "                 arm_dev_mode = 'uniform_deviations',\n",
    "                 mixed_dev = 1,\n",
    "                 mixed_mean = 1,\n",
    "                 \n",
    "                 # Agent parameters. \n",
    "                 agent_init_mode = 'realistic', \n",
    "                 optimistic_param = 5,\n",
    "                 \n",
    "                 # Decision parameters.\n",
    "                 decision_mode = 'greedy',\n",
    "                 decision_function = 'argmax', \n",
    "                 greedy_epsilon = .1, \n",
    "                 UCB_param = 2, \n",
    "                 \n",
    "                 # Update parameters\n",
    "                 update_mode = 'sample_average', \n",
    "                 step_param = .1):\n",
    "        \n",
    "        # Step count mainted throughout experiment. \n",
    "        self.agents_step = 1\n",
    "        self.last_runtime = 0\n",
    "        \n",
    "        # Model hyper-parameters.\n",
    "        self.number_of_agents = number_of_agents\n",
    "        self.number_of_arms = number_of_arms\n",
    "        self.agent_to_bandit_mode = agent_to_bandit_mode\n",
    "        self.decision_mode = decision_mode\n",
    "        self.decision_function = decision_function \n",
    "        self.greedy_epsilon = greedy_epsilon \n",
    "        self.UCB_param = UCB_param\n",
    "        self.update_mode = update_mode\n",
    "        self.step_param = step_param\n",
    "        self.problem_mode = problem_mode\n",
    "        self.move_deviation = move_deviation\n",
    "        \n",
    "        # Reporting parameters.\n",
    "        self.report_rewards = []\n",
    "        self.report_optimal_actions = []\n",
    "        \n",
    "        # Placeholders for running experiment.\n",
    "        self.current_action = np.zeros((number_of_agents, 3))\n",
    "        \n",
    "        # Initialize bandit(s).\n",
    "        if agent_to_bandit_mode == 'one_to_one':\n",
    "            number_of_bandits = number_of_agents\n",
    "        else:\n",
    "            number_of_bandits = 1\n",
    "        if arm_mean_mode == 'equal':\n",
    "            arm_means = np.empty((number_of_bandits, number_of_arms, 1))\n",
    "            arm_means.fill(q_star_mean)\n",
    "        else:\n",
    "            arm_means = np.random.normal(q_star_mean, \n",
    "                                         q_star_dev, \n",
    "                                         number_of_bandits * number_of_arms).reshape((number_of_bandits, number_of_arms, 1))\n",
    "        if arm_dev_mode == 'mixed_deviations':\n",
    "            arm_devs = np.absolute(np.random.normal(mixed_mean, \n",
    "                                                    mixed_dev, \n",
    "                                                    number_of_bandits * number_of_arms).reshape((number_of_bandits, \n",
    "                                                                                               number_of_arms, 1)))\n",
    "        else:\n",
    "            arm_devs = np.empty((number_of_bandits, number_of_arms, 1))\n",
    "            arm_devs.fill(q_star_dev)\n",
    "        self.bandits = np.dstack((arm_means, arm_devs))\n",
    "        # Bandits initialized. \n",
    "        \n",
    "        \n",
    "        # Initialize agents.\n",
    "        q_values = np.empty((number_of_agents, number_of_arms, 1))\n",
    "        action_counts = np.zeros((number_of_agents, number_of_arms, 1))\n",
    "        if agent_init_mode == 'optimistic':\n",
    "            q_values.fill(optimistic_param * q_star_dev)\n",
    "        else:\n",
    "            q_values.fill(0)\n",
    "        self.agents = np.dstack((q_values, action_counts))\n",
    "        self.bank = np.zeros(number_of_agents)\n",
    "        \n",
    "    # Decision method.\n",
    "    \n",
    "    # Inputs agents, outputs decisions as an integer array.\n",
    "    def decide(self):\n",
    "        step = self.agents_step\n",
    "        function = self.decision_function\n",
    "        estimated_values = self.agents[:, :, 0] # Makes a matrix of only estimated values for each agent. \n",
    "        \n",
    "        if function == 'UCB':\n",
    "            number_of_attempts = self.agents[:,:,1]\n",
    "            UCB_augment = UCB_param * np.sqrt(np.log(step) / number_of_attempts)\n",
    "            UCB_augment[UCB_augment == inf] = 0\n",
    "            UCB_values = estimated_values + UCB_augment\n",
    "            return np_argmax_along_rows(UCB_values)\n",
    "        \n",
    "        # Note: an independent epsilon decision is made for all agents. \n",
    "        if self.decision_mode == 'epsilon_greedy':\n",
    "            decisions = np.empty((self.number_of_agents), dtype = int)\n",
    "            decisions.fill(-1)\n",
    "            for i in range(self.number_of_agents):\n",
    "                if np.random.random(1) < self.greedy_epsilon:\n",
    "                    decisions[i] = int(np.random.choice(self.number_of_arms,1))\n",
    "                    if decisions[i] == -1:\n",
    "                        print(error)\n",
    "                else:\n",
    "                    decisions[i] = np_array_argmax(estimated_values[i])\n",
    "            return decisions\n",
    "        else:\n",
    "            return np_argmax_along_rows(estimated_values)\n",
    "    \n",
    "    def act(self):\n",
    "        number_of_agents = self.number_of_agents\n",
    "        # Action produces array of [choice, reward, optimal_choice] vectors\n",
    "        # must handle many_to_one case and one_to_one case. \n",
    "        # default handles many_to_one case.\n",
    "        actions = self.decide()\n",
    "        rewards = np.zeros(self.number_of_agents)\n",
    "        optimal_choices = np.zeros(self.number_of_agents)\n",
    "        if self.agent_to_bandit_mode == 'one_to_one':\n",
    "            number_of_bandits = number_of_agents\n",
    "        else:\n",
    "            number_of_bandits = 1\n",
    "        for i in range(number_of_agents):\n",
    "            bandit = i % number_of_bandits\n",
    "            rewards[i] = np.random.normal(self.bandits[bandit, actions[i], 0], self.bandits[bandit, actions[i], 1])\n",
    "            optimal_choices[i] = np_array_argmax(self.bandits[bandit,:,0])\n",
    "        actions = actions.reshape((number_of_agents,1))\n",
    "        rewards = rewards.reshape((number_of_agents,1))\n",
    "        optimal_choices = optimal_choices.reshape((number_of_agents,1))\n",
    "        return np.hstack((actions, rewards, optimal_choices))\n",
    "    \n",
    "    def update(self):\n",
    "        number_of_agents = self.number_of_agents\n",
    "        self.report_rewards.append(0)\n",
    "        # Update q-scores, agent bank, total rewards for step.\n",
    "        choice_reward_optimal = self.current_action\n",
    "        if self.update_mode == 'constant_step':\n",
    "            step = self.step_param\n",
    "            for i in range(number_of_agents):\n",
    "                choice = int(choice_reward_optimal[i][0])\n",
    "                reward = choice_reward_optimal[i][1]\n",
    "                self.bank[i] += reward\n",
    "                self.report_rewards[self.agents_step - 1] += reward\n",
    "                self.agents[i, choice, 1] += 1\n",
    "                self.agents[i][choice][0] = self.agents[i][choice][0] + step * (reward - self.agents[i][choice][0])\n",
    "        elif self.update_mode == 'unbiased_constant_step':\n",
    "            step = self.step_param\n",
    "            for i in range(number_of_agents):\n",
    "                choice = int(choice_reward_optimal[i][0])\n",
    "                reward = choice_reward_optimal[i][1]\n",
    "                self.bank[i] += reward\n",
    "                self.report_rewards[self.agents_step - 1] += reward\n",
    "                self.agents[i, choice, 1] += 1\n",
    "                # Dynamically program this.\n",
    "                # That is, make a function that stores o_bar in a list (or another container type). \n",
    "                o_bar = 0\n",
    "                for i in range(self.agents[i][choice][1]):\n",
    "                    o_bar += o_bar + step * (1 - o_bar)\n",
    "                beta = step / o_bar\n",
    "                self.agents[i][choice][0] = self.agents[i][choice][0] + beta * (reward - self.agents[i][choice][0])\n",
    "        else:\n",
    "            for i in range(number_of_agents):\n",
    "                choice = int(choice_reward_optimal[i][0])\n",
    "                reward = choice_reward_optimal[i][1]\n",
    "                self.bank[i] += reward\n",
    "                self.report_rewards[self.agents_step - 1] += reward\n",
    "                self.agents[i, choice, 1] += 1\n",
    "                step = 1 / self.agents[i, choice, 1]\n",
    "                self.agents[i, choice, 0] = self.agents[i, choice, 0] + step * (reward - self.agents[i, choice, 0])\n",
    "        # Remove floating point errors in action count\n",
    "        # Augment agents step.\n",
    "        self.agents_step += 1\n",
    "        # Count optimal choices for step. \n",
    "        choices = choice_reward_optimal.T[0]\n",
    "        optimal_choices = choice_reward_optimal.T[-1]\n",
    "        choice_optimal_match = np.array((choices == optimal_choices), dtype = int)\n",
    "        self.report_optimal_actions.append(np.sum(choice_optimal_match))\n",
    "    \n",
    "    def adjust_arms_gaussian(self):\n",
    "        if self.agent_to_bandit_mode == 'one_to_one':\n",
    "            number_of_bandits = self.number_of_agents\n",
    "        else:\n",
    "            number_of_bandits = 1\n",
    "        adjustment = np.random.normal(0, self.move_deviation, number_of_bandits*self.number_of_arms).reshape((number_of_bandits, self.number_of_arms, 1))\n",
    "        move = np.dstack((adjustment, np.zeros((number_of_bandits,exp.number_of_arms, 1))))\n",
    "        self.bandits += move\n",
    "    \n",
    "    def run(self, number_of_iterations):\n",
    "        start_time = time.time()\n",
    "        for i in tqdm(range(number_of_iterations)):\n",
    "            self.current_action = self.act()\n",
    "            self.update()\n",
    "            if self.problem_mode == 'non_stationary':\n",
    "                self.adjust_arms_gaussian()\n",
    "        self.last_runtime = time.time() - start_time\n",
    "    \n",
    "    def report(self, n_start, n_end):\n",
    "        print(\"Number of agents: %d.\"%self.number_of_agents)\n",
    "        print(\"Time of latest run: {:1.1f} seconds.\".format(self.last_runtime))\n",
    "        \n",
    "        average_rewards = np.array(self.report_rewards)/self.number_of_agents\n",
    "        average_reward_plot = plt.plot(average_rewards[n_start:n_end], 'r', label = self.decision_mode)\n",
    "        plt.axis([n_start, n_end, np.amin(average_rewards), np.amax(average_rewards) + .1])\n",
    "        plt.xlabel('Step')\n",
    "        plt.ylabel('Average Reward')\n",
    "        plt.legend()\n",
    "        plt.show()\n",
    "        \n",
    "        step_OAR = np.array(self.report_optimal_actions)/self.number_of_agents\n",
    "        optimal_action_ratio_plot = plt.plot(step_OAR[n_start:n_end], 'g', label = self.decision_mode)\n",
    "        plt.axis([n_start, n_end, 0, 1])\n",
    "        plt.xlabel('Step')\n",
    "        plt.ylabel('Optimal-Action Ratio')\n",
    "        plt.legend()\n",
    "        plt.show()"
   ]
  },
  {
   "cell_type": "markdown",
   "metadata": {},
   "source": [
    "## Running an Experiment:\n",
    "\n",
    "The following block shows how to run a bandit experiment using various options. The `run(n)` method executes `n` steps of the experiment, and by executing `run(k)` after this, the method will do `k` more steps with the same set of agents. In order to report on the experiement (bring up relevant graphs), use method `report(start_step, end_step)` for the desired time window. \n",
    "\n",
    "Note: We've coded the ability to set up one set of arms for all learners or a set of arms for each learner. This is the paramater `agent_to_bandit_mode` which can take the values `one_to_one` or `many_to_one`. "
   ]
  },
  {
   "cell_type": "code",
   "execution_count": 11,
   "metadata": {},
   "outputs": [
    {
     "name": "stderr",
     "output_type": "stream",
     "text": [
      "100%|██████████████████████████████████████████████████████████████████████████████| 1000/1000 [01:25<00:00, 11.23it/s]\n"
     ]
    },
    {
     "name": "stdout",
     "output_type": "stream",
     "text": [
      "Number of agents: 2000.\n",
      "Time of latest run: 85.9 seconds.\n"
     ]
    },
    {
     "data": {
      "image/png": "[encoded data removed]",
      "text/plain": [
       "<Figure size 432x288 with 1 Axes>"
      ]
     },
     "metadata": {
      "needs_background": "light"
     },
     "output_type": "display_data"
    },
    {
     "data": {
      "image/png": "[encoded data removed]",
      "text/plain": [
       "<Figure size 432x288 with 1 Axes>"
      ]
     },
     "metadata": {
      "needs_background": "light"
     },
     "output_type": "display_data"
    }
   ],
   "source": [
    "exp = k_AB_Experiment(number_of_agents = 2000, \n",
    "                      agent_to_bandit_mode = 'one_to_one', \n",
    "                      decision_mode = 'epsilon_greedy',\n",
    "                      update_mode = 'constant_step', \n",
    "                      problem_mode = 'non_stationary')\n",
    "\n",
    "exp.run(1000)\n",
    "exp.report(0, 1000)"
   ]
  }
 ],
 "metadata": {
  "kernelspec": {
   "display_name": "Python 3",
   "language": "python",
   "name": "python3"
  },
  "language_info": {
   "codemirror_mode": {
    "name": "ipython",
    "version": 3
   },
   "file_extension": ".py",
   "mimetype": "text/x-python",
   "name": "python",
   "nbconvert_exporter": "python",
   "pygments_lexer": "ipython3",
   "version": "3.6.7"
  }
 },
 "nbformat": 4,
 "nbformat_minor": 2
}
