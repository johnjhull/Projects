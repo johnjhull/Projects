{
 "cells": [
  {
   "cell_type": "markdown",
   "metadata": {},
   "source": [
    "# Natural Language Processing: \n",
    "\n",
    "## Jargon/Codeword Comprehension with Word2Vec\n",
    "\n",
    "### Problem:\n",
    "\n",
    "This problem comes to us from a data analyst for a national truck-stop chain.  His team was spending a great deal of time and effort trying to comprehend local jargon that they were receiving through a reporting application.  An example of this is the myriad of words used for \"compressor.\" In the lexicon at any given truck stop, this word could be replaced with the brand name of the compressor, even in light of the fact that the brand might make products other than compressors, or nicknames such as \"skid.\"  Occurences such as these cost the data analyst's team countless hours of effort trying to comprehend, for instance, basic requests for parts.\n",
    "\n",
    "It would be nice to have a thesaurus of truck-stop terminology on hand, but it is unlikely Roget's has gotten around to that yet.  Fortunately, deep learning has an answer.  In this notebook, we'll walk through the process of creating word embeddings from a messy, domain specific corpus (in this case medical call center text from [here](https://www.kaggle.com/jsreddy79/text-classification-supervised-learning#TextClassification_Data.csv)). This will allow us to create, for all intents and purposes, a thesaurus specific to a given working environment for the purpose of jargon comprehension.  The data preprocessing necessary to execute the method is minimal and the results are quite good even though the dataset could best be described as messy and small (as one would expect to encounter when dealing with such a problem). \n",
    "\n",
    "### Method:\n",
    "\n",
    "We use a modified Word2Vec skip-gram algorithm to create the embeddings. Word2Vec is a trusted and flexible method for the creation of word embeddings, modified here in two key ways.  First, for the purpose of noise reduction when creating the training data from the corpus, an end token is added to acknowledge the short phrases on which the embeddings are trained.  Secondly, since the corpus is small, we implement a progressive parametrized subsampling scheme so that at the beginning of the training process all words are being trained, but by the end, only half are being trained. This was implemented after it became apparent that the small size of the corpus caused the probabalistic subsampling scheme to become deterministic (many passes through the corpus and the Law of Large Numbers). The implementation of the progressive scheme improved results dramatically.  \n",
    "\n",
    "### Other Applications:\n",
    "\n",
    "This method can be used in any environment where jargon comprehension is an issue. An oilfield services company might experience the same problem as the truck-stop data analyst, or hospitals sharing information might run into this difficulty as well. This method might also help market researchers understand slang specific to a region and therefore allow them to communicate more effectively with regional customer bases. A more exciting application might be code-word understanding.\n",
    "\n",
    "#### NLP for Law Enforcement/Counterterrorism:\n",
    "\n",
    "It is common among criminal and terrorist organizations to speak in code. For example, a terrorist wouldn't write on a communications platform \"please have the bomb ready for me by Friday at 2PM for the attack,\" he/she would likely replace some key words like \"bomb\" and \"attack\" with innocuous terms like \"cake\" and \"party\" respectively. It is likely that building word embeddings from communications data collected from a terrorist network and checking similiarity with previously known code words would aid intelligence analysts in cracking those codes. This wouldn't just apply to terrorists of course; the communications of drug cartels and gangs would also be targets for this approach. \n",
    "\n",
    "### Additional Features:\n",
    "\n",
    "We also implement parts-of-speech quantization using the NLTK package and k-means clustering. This is a proposed feature engineering technique in case the embeddings are to be used in, for example, a classification problem. Essentially, we create a quantized dictionary that maps similar nouns to one representative vector. We only do this for nouns, but it can be done with any part of speech detectable by NLTK's parts of speech classifier. This technique is proposed as a way to aid the task of optimization in a machine learning task, deep learning or otherwise. \n",
    "\n",
    "#### On to the code. "
   ]
  },
  {
   "cell_type": "markdown",
   "metadata": {},
   "source": [
    "## Module import block:"
   ]
  },
  {
   "cell_type": "code",
   "execution_count": 1,
   "metadata": {},
   "outputs": [],
   "source": [
    "import pandas as pd\n",
    "import csv\n",
    "import collections\n",
    "import matplotlib.pyplot as plt\n",
    "from matplotlib import pylab\n",
    "import numpy as np\n",
    "import random\n",
    "import math\n",
    "import string\n",
    "import itertools\n",
    "import tensorflow as tf\n",
    "from sklearn.manifold import TSNE\n",
    "from sklearn.cluster import KMeans\n",
    "import time\n",
    "import copy\n",
    "import datetime\n",
    "from tempfile import TemporaryFile\n",
    "import nltk"
   ]
  },
  {
   "cell_type": "markdown",
   "metadata": {},
   "source": [
    "## Data import/preprocessing:\n",
    "\n",
    "As usual, we use Pandas to import and clean our dataset. "
   ]
  },
  {
   "cell_type": "code",
   "execution_count": 2,
   "metadata": {},
   "outputs": [
    {
     "data": {
      "text/html": [
       "<div>\n",
       "<style scoped>\n",
       "    .dataframe tbody tr th:only-of-type {\n",
       "        vertical-align: middle;\n",
       "    }\n",
       "\n",
       "    .dataframe tbody tr th {\n",
       "        vertical-align: top;\n",
       "    }\n",
       "\n",
       "    .dataframe thead th {\n",
       "        text-align: right;\n",
       "    }\n",
       "</style>\n",
       "<table border=\"1\" class=\"dataframe\">\n",
       "  <thead>\n",
       "    <tr style=\"text-align: right;\">\n",
       "      <th></th>\n",
       "      <th>fileid</th>\n",
       "      <th>SUMMARY</th>\n",
       "      <th>DATA</th>\n",
       "      <th>categories</th>\n",
       "      <th>sub_categories</th>\n",
       "      <th>previous_appointment</th>\n",
       "      <th>ID</th>\n",
       "    </tr>\n",
       "  </thead>\n",
       "  <tbody>\n",
       "    <tr>\n",
       "      <th>0</th>\n",
       "      <td>2015561331001</td>\n",
       "      <td>Pt aware that he needs ROV for refill</td>\n",
       "      <td>{\\rtf1\\ansi\\ftnbj{\\fonttbl{\\f0 \\fswiss Arial;}...</td>\n",
       "      <td>PRESCRIPTION</td>\n",
       "      <td>REFILL</td>\n",
       "      <td>No</td>\n",
       "      <td>2015_5_6133_1001</td>\n",
       "    </tr>\n",
       "    <tr>\n",
       "      <th>1</th>\n",
       "      <td>2015561341001</td>\n",
       "      <td>Mom wants to know if the Focalin needs some do...</td>\n",
       "      <td>{\\rtf1\\ansi\\ftnbj{\\fonttbl{\\f0 \\fswiss Arial;}...</td>\n",
       "      <td>ASK_A_DOCTOR</td>\n",
       "      <td>MEDICATION RELATED</td>\n",
       "      <td>No</td>\n",
       "      <td>2015_5_6134_1001</td>\n",
       "    </tr>\n",
       "    <tr>\n",
       "      <th>2</th>\n",
       "      <td>2015561351001</td>\n",
       "      <td>pt called to discuss nortryptiline. she says s...</td>\n",
       "      <td>xxxx-xxxx\\f0 \\fswiss Arial;}}{\\colortbl ;\\red2...</td>\n",
       "      <td>ASK_A_DOCTOR</td>\n",
       "      <td>MEDICATION RELATED</td>\n",
       "      <td>No</td>\n",
       "      <td>2015_5_6135_1001</td>\n",
       "    </tr>\n",
       "    <tr>\n",
       "      <th>3</th>\n",
       "      <td>2015561361001</td>\n",
       "      <td>FYI Nortryptline medication.</td>\n",
       "      <td>xxxx-xxxx\\f0 \\fswiss Arial;}}{\\colortbl ;\\red2...</td>\n",
       "      <td>MISCELLANEOUS</td>\n",
       "      <td>OTHERS</td>\n",
       "      <td>No</td>\n",
       "      <td>2015_5_6136_1001</td>\n",
       "    </tr>\n",
       "    <tr>\n",
       "      <th>4</th>\n",
       "      <td>2015561371001</td>\n",
       "      <td>Letter of patient establishment request</td>\n",
       "      <td>{\\rtf1\\ansi\\ftnbj{\\fonttbl{\\f0 \\fswiss Arial;}...</td>\n",
       "      <td>MISCELLANEOUS</td>\n",
       "      <td>SHARING OF HEALTH RECORDS (FAX, E-MAIL, ETC.)</td>\n",
       "      <td>No</td>\n",
       "      <td>2015_5_6137_1001</td>\n",
       "    </tr>\n",
       "  </tbody>\n",
       "</table>\n",
       "</div>"
      ],
      "text/plain": [
       "          fileid                                            SUMMARY  \\\n",
       "0  2015561331001              Pt aware that he needs ROV for refill   \n",
       "1  2015561341001  Mom wants to know if the Focalin needs some do...   \n",
       "2  2015561351001  pt called to discuss nortryptiline. she says s...   \n",
       "3  2015561361001                       FYI Nortryptline medication.   \n",
       "4  2015561371001            Letter of patient establishment request   \n",
       "\n",
       "                                                DATA     categories  \\\n",
       "0  {\\rtf1\\ansi\\ftnbj{\\fonttbl{\\f0 \\fswiss Arial;}...   PRESCRIPTION   \n",
       "1  {\\rtf1\\ansi\\ftnbj{\\fonttbl{\\f0 \\fswiss Arial;}...   ASK_A_DOCTOR   \n",
       "2  xxxx-xxxx\\f0 \\fswiss Arial;}}{\\colortbl ;\\red2...   ASK_A_DOCTOR   \n",
       "3  xxxx-xxxx\\f0 \\fswiss Arial;}}{\\colortbl ;\\red2...  MISCELLANEOUS   \n",
       "4  {\\rtf1\\ansi\\ftnbj{\\fonttbl{\\f0 \\fswiss Arial;}...  MISCELLANEOUS   \n",
       "\n",
       "                                  sub_categories previous_appointment  \\\n",
       "0                                         REFILL                   No   \n",
       "1                             MEDICATION RELATED                   No   \n",
       "2                             MEDICATION RELATED                   No   \n",
       "3                                         OTHERS                   No   \n",
       "4  SHARING OF HEALTH RECORDS (FAX, E-MAIL, ETC.)                   No   \n",
       "\n",
       "                 ID  \n",
       "0  2015_5_6133_1001  \n",
       "1  2015_5_6134_1001  \n",
       "2  2015_5_6135_1001  \n",
       "3  2015_5_6136_1001  \n",
       "4  2015_5_6137_1001  "
      ]
     },
     "execution_count": 2,
     "metadata": {},
     "output_type": "execute_result"
    }
   ],
   "source": [
    "pre_data = pd.read_csv('Text_Class_Prototype//TextClassification_Data.csv', encoding = \"ISO-8859-1\")\n",
    "pre_data.head()"
   ]
  },
  {
   "cell_type": "code",
   "execution_count": 3,
   "metadata": {},
   "outputs": [
    {
     "data": {
      "text/html": [
       "<div>\n",
       "<style scoped>\n",
       "    .dataframe tbody tr th:only-of-type {\n",
       "        vertical-align: middle;\n",
       "    }\n",
       "\n",
       "    .dataframe tbody tr th {\n",
       "        vertical-align: top;\n",
       "    }\n",
       "\n",
       "    .dataframe thead th {\n",
       "        text-align: right;\n",
       "    }\n",
       "</style>\n",
       "<table border=\"1\" class=\"dataframe\">\n",
       "  <thead>\n",
       "    <tr style=\"text-align: right;\">\n",
       "      <th></th>\n",
       "      <th>SUMMARY</th>\n",
       "      <th>categories</th>\n",
       "    </tr>\n",
       "  </thead>\n",
       "  <tbody>\n",
       "    <tr>\n",
       "      <th>0</th>\n",
       "      <td>Pt aware that he needs ROV for refill</td>\n",
       "      <td>PRESCRIPTION</td>\n",
       "    </tr>\n",
       "    <tr>\n",
       "      <th>1</th>\n",
       "      <td>Mom wants to know if the Focalin needs some do...</td>\n",
       "      <td>ASK_A_DOCTOR</td>\n",
       "    </tr>\n",
       "    <tr>\n",
       "      <th>2</th>\n",
       "      <td>pt called to discuss nortryptiline. she says s...</td>\n",
       "      <td>ASK_A_DOCTOR</td>\n",
       "    </tr>\n",
       "    <tr>\n",
       "      <th>3</th>\n",
       "      <td>FYI Nortryptline medication.</td>\n",
       "      <td>MISCELLANEOUS</td>\n",
       "    </tr>\n",
       "    <tr>\n",
       "      <th>4</th>\n",
       "      <td>Letter of patient establishment request</td>\n",
       "      <td>MISCELLANEOUS</td>\n",
       "    </tr>\n",
       "  </tbody>\n",
       "</table>\n",
       "</div>"
      ],
      "text/plain": [
       "                                             SUMMARY     categories\n",
       "0              Pt aware that he needs ROV for refill   PRESCRIPTION\n",
       "1  Mom wants to know if the Focalin needs some do...   ASK_A_DOCTOR\n",
       "2  pt called to discuss nortryptiline. she says s...   ASK_A_DOCTOR\n",
       "3                       FYI Nortryptline medication.  MISCELLANEOUS\n",
       "4            Letter of patient establishment request  MISCELLANEOUS"
      ]
     },
     "execution_count": 3,
     "metadata": {},
     "output_type": "execute_result"
    }
   ],
   "source": [
    "pre_data = pre_data[['SUMMARY', 'categories']].dropna()\n",
    "pre_data.head()"
   ]
  },
  {
   "cell_type": "code",
   "execution_count": 4,
   "metadata": {},
   "outputs": [
    {
     "name": "stdout",
     "output_type": "stream",
     "text": [
      "Counter({'PRESCRIPTION': 14500, 'APPOINTMENTS': 12960, 'ASK_A_DOCTOR': 11743, 'MISCELLANEOUS': 10460, 'LAB': 4246, 'JUNK': 20, 'mISCELLANEOUS': 3, 'asK_A_DOCTOR': 1})\n"
     ]
    }
   ],
   "source": [
    "print(collections.Counter(pre_data['categories']))"
   ]
  },
  {
   "cell_type": "code",
   "execution_count": 5,
   "metadata": {},
   "outputs": [
    {
     "name": "stdout",
     "output_type": "stream",
     "text": [
      "Counter({'PRESCRIPTION': 14500, 'APPOINTMENTS': 12960, 'ASK_A_DOCTOR': 11744, 'MISCELLANEOUS': 10463, 'LAB': 4246})\n"
     ]
    }
   ],
   "source": [
    "def fix(data_frame):\n",
    "    junk_list = list(data_frame[data_frame['categories'] == 'JUNK'].index)\n",
    "    data_frame = data_frame.drop(junk_list, axis = 0)\n",
    "    data_frame = data_frame.replace(['mISCELLANEOUS', 'asK_A_DOCTOR'], ['MISCELLANEOUS','ASK_A_DOCTOR'])\n",
    "    return data_frame\n",
    "\n",
    "pre_data = fix(pre_data)\n",
    "print(collections.Counter(pre_data['categories']))"
   ]
  },
  {
   "cell_type": "code",
   "execution_count": 6,
   "metadata": {},
   "outputs": [],
   "source": [
    "data_array = pre_data.values[...,0]"
   ]
  },
  {
   "cell_type": "markdown",
   "metadata": {},
   "source": [
    "## Corpus Construction:\n",
    "\n",
    "The embedding task requires the following:\n",
    "\n",
    "1. A *list of words* in order with the end of phrases marked with an end token. Note: another container type like a queue might be more efficient (i.e. things are done in order so a complete indexing of the corpus is unecessary), but no issues were encountered. \n",
    "2. A *dictionary* that maps each word to an integer; in this case, the integer is chosen by occurence rank with ties broken randomly. \n",
    "3. A *reverse dictionary* that maps the numbers back to words.\n",
    "4. A *frequency dictionary* that records the word's actual frequency in the corpus (for subsampling).\n",
    "\n",
    "The following block creates these after processing each string to separate out punctuation and measurements."
   ]
  },
  {
   "cell_type": "code",
   "execution_count": 7,
   "metadata": {},
   "outputs": [
    {
     "name": "stdout",
     "output_type": "stream",
     "text": [
      "405324 instances across 10763 distinct.\n",
      "100 most common words: {'[..end..]': 53913, '/': 17386, 'to': 11495, 'pt': 10690, 'rx': 8680, '-': 8090, '.': 6604, ',': 5607, 'for': 5495, 'appt': 4623, ':': 4588, 'phone': 3945, 'note': 3892, 'request': 3866, 'refill': 3705, 'on': 3414, 'call': 3149, '15': 3095, 'with': 3043, 'and': 2931, 'mri': 2802, 'in': 2454, 'rov': 2298, 'a': 2132, 'results': 2130, 'dr': 2029, \"'s\": 1982, 'of': 1925, 'please': 1799, 'mom': 1636, 'the': 1569, '?': 1559, 'clld': 1550, 'from': 1473, 'scheduled': 1419, 'w': 1391, 'order': 1386, 'needs': 1356, 'called': 1346, 'about': 1345, '1': 1326, 'patient': 1305, '2015': 1274, 'new': 1255, 'is': 1238, '2': 1219, 'rn': 1210, 'calling': 1175, '3': 1171, 'at': 1168, 'like': 1145, 'would': 1117, 'add': 1105, '@': 1099, 'pa': 1067, 'work': 1054, 'wants': 1035, 'today': 1025, 'requesting': 997, 'not': 991, 'need': 965, 'sch': 944, 'discuss': 938, 'pls': 924, 'mg': 924, '6': 923, '4': 922, 'referral': 914, '5': 900, 'cb': 898, 'records': 879, '10': 872, 'has': 869, 'faxed': 855, 'med': 842, 'rna': 838, 'back': 820, 'sleep': 818, 'schedule': 818, 'iov': 802, '7': 782, '&': 779, 'be': 773, '30': 767, 'advise': 763, 'fyi': 754, 'hydrocodone': 753, 'will': 735, 'eeg': 734, 'letter': 732, 's': 722, 'pharmacy': 711, 'her': 705, 'pain': 702, 'status': 696, 're': 692, 'late': 684, 'r': 676, 'she': 665, 'study': 665}\n"
     ]
    }
   ],
   "source": [
    "stop_list = [\".\",\",\",\"!\",\"?\",\":\",\";\",\"/\",\"(\",\")\",\"-\", \"\\ufeff\", \"\\\"\", \"\\'s\"]\n",
    "measurements = [\"mg\", \"cc\", \"lb\", \"lbs\", \"kg\", \"kgs\"]\n",
    "end_signature = '[..end..]'\n",
    "\n",
    "def format_string(string):\n",
    "    global stop_list\n",
    "    global measurements\n",
    "    for item in stop_list:\n",
    "        string = string.replace(item, \" \" + item + \" \")\n",
    "    for item in measurements:\n",
    "        if item in string:\n",
    "            index = string.find(item)\n",
    "            if ord(string[index - 1]) in range(48,58):\n",
    "                string = string[:index] + \" \" + string[index:]\n",
    "    return string.lower()\n",
    "\n",
    "def strings2list(column, report = True, n_most_common = 20):\n",
    "    # input: 1D numpy array of strings.\n",
    "    # output: list of words, spaced punctuation, and end token.\n",
    "    global end_signature\n",
    "    out_list = []\n",
    "    for i in range(column.shape[0]):\n",
    "        if isinstance(column[i], str):\n",
    "            instance_list = format_string(column[i]).split() + [end_signature]\n",
    "            out_list = out_list + instance_list\n",
    "        else:\n",
    "            print('Entry not a string at index ' + str(i))\n",
    "    frequency_dictionary = collections.Counter(out_list)\n",
    "    dictionary = dict()\n",
    "    for word, _ in frequency_dictionary.most_common():\n",
    "        dictionary[word] = len(dictionary) \n",
    "    if report:\n",
    "        print(str(len(out_list)) + \" instances across \" + str(len(frequency_dictionary)) + \" distinct.\")\n",
    "        print(\"%d most common words: \" % n_most_common, end = \"\")\n",
    "        print(dict(frequency_dictionary.most_common(n_most_common)))\n",
    "    reverse_dictionary = dict(zip(dict(dictionary).values(), dict(dictionary).keys()))\n",
    "    return out_list, dictionary, reverse_dictionary, dict(frequency_dictionary)\n",
    "\n",
    "words_list, dictionary, reverse_dictionary, frequency_dictionary = strings2list(data_array, n_most_common = 100)"
   ]
  },
  {
   "cell_type": "markdown",
   "metadata": {},
   "source": [
    "## Encoded corpus:\n",
    "\n",
    "We encode the corpus by frequency indexed high to low using the dictionary created above. This encoding will refer to the row-vector index in the embedding matrix associated to that word from initialization onward. "
   ]
  },
  {
   "cell_type": "code",
   "execution_count": 8,
   "metadata": {},
   "outputs": [
    {
     "name": "stdout",
     "output_type": "stream",
     "text": [
      "3 493 159 209 37 22 8 14 0 29 56 2 167 118 30 290 37 629 355 3814 0 3 38 2 62 2498 6 98 172 98 72 23 3139 5243 0 85 5244 101 6 0 89 27 41 5245 13 0 9 127 0 1057 81 1408 605 686 330 946 256 356 0 28 509 2139 36 2 43 2499 130 216 74 3140 0 3 56 2 301 1567 33 150 1 83 7 28 16 0 11 12 0 22 0 28 367 2736 19 36 5246 5247 1515 6 0 3  \n",
      "pt aware that he needs rov for refill [..end..] mom wants to know if the focalin needs some dosage adjusting [..end..] pt called to discuss nortryptiline . she says she has a weird tas [..end..] fyi nortryptline medication . [..end..] letter of patient establishment request [..end..] appt question [..end..] dizzy & double vision past 45 mins after ct [..end..] please refax neurocog order to new fac ; wake med maybe [..end..] pt wants to reschedule epidural from 04 / 30 , please call [..end..] phone note [..end..] rov [..end..] please go ahead and order mandibular repositioning device . [..end..] pt "
     ]
    }
   ],
   "source": [
    "numerically_encoded_corpus = [dictionary[word] for word in words_list]\n",
    "\n",
    "# Example of encoding:\n",
    "\n",
    "for number in numerically_encoded_corpus[:20]:\n",
    "    print(str(number), end = \" \")\n",
    "print(\" \")\n",
    "for number in numerically_encoded_corpus[:20]:\n",
    "    print(reverse_dictionary[number], end = \" \")\n",
    "del words_list"
   ]
  },
  {
   "cell_type": "markdown",
   "metadata": {},
   "source": [
    "## Word2Vec: End-Acknowledging Skip-gram"
   ]
  },
  {
   "cell_type": "markdown",
   "metadata": {},
   "source": [
    "### Batch generator:\n",
    "\n",
    "The batch generator handles the subsampling, that is, the words not to train after having been seen enough. The function we use to determine subsampling is $$\\left(\\sqrt{\\frac{f}{\\rho}}+1\\right)*\\frac{\\rho}{f}$$ where $\\rho$ is a parameter and $f$ is the frequency ratio of the word (number of times occurred/all occurences of words) [(taken from here)](http://mccormickml.com/2017/01/11/word2vec-tutorial-part-2-negative-sampling/). A higher $\\rho$ means a higher keep probability.\n",
    "\n",
    "The end acknowledgement is handled by looking left and then right of the word to be trained, stopping either process when an end token is seen."
   ]
  },
  {
   "cell_type": "code",
   "execution_count": 9,
   "metadata": {},
   "outputs": [
    {
     "name": "stdout",
     "output_type": "stream",
     "text": [
      "pt aware that he needs rov for refill [..end..] mom  \n",
      "[  3   3 493 493 493 159 159 159 159 209 209 209]\n",
      "[[493]\n",
      " [159]\n",
      " [  3]\n",
      " [159]\n",
      " [209]\n",
      " [493]\n",
      " [  3]\n",
      " [209]\n",
      " [ 37]\n",
      " [159]\n",
      " [493]\n",
      " [ 37]]\n",
      "Batch 1: ['pt', 'pt', 'aware', 'aware', 'aware', 'that', 'that', 'that', 'that', 'he', 'he', 'he']\n",
      "Label 1: ['aware', 'that', 'pt', 'that', 'he', 'aware', 'pt', 'he', 'needs', 'that', 'aware', 'needs']\n"
     ]
    }
   ],
   "source": [
    "data_index = 0\n",
    "left_right_index = [0,0]\n",
    "subsample_words = []\n",
    "\n",
    "def subsample_keep_probability(frequency_ratio, parameter = 0.01):\n",
    "    return min(1, (math.sqrt(frequency_ratio/parameter)+1)*parameter/frequency_ratio)\n",
    "\n",
    "def generate_batch_end_acknowledging_skipgram(corpus, \n",
    "                                              batch_size = None, \n",
    "                                              n_left = 2, \n",
    "                                              n_right = 2,\n",
    "                                              subsample = True,\n",
    "                                              subsample_parameter = 0.01):\n",
    "    global end_signature\n",
    "    global data_index\n",
    "    global left_right_index\n",
    "    global subsample_words\n",
    "    corpus_size = len(corpus)\n",
    "    assert isinstance(batch_size, int), \"Batch Generator: You must specify a batch size.\"\n",
    "    batch = np.ndarray(shape=(batch_size), dtype = np.int32)\n",
    "    labels = np.ndarray(shape=(batch_size,1), dtype = np.int32)\n",
    "    record_position = 0\n",
    "    word_recorded = False\n",
    "    corpus_size = len(corpus)\n",
    "    while record_position < batch_size:\n",
    "        if subsample and corpus[data_index] in subsample_words:\n",
    "            data_index = (data_index + 1) % corpus_size\n",
    "            continue\n",
    "        \n",
    "        if corpus[data_index] == dictionary[end_signature]:\n",
    "            batch[record_position] = corpus[data_index]\n",
    "            labels[record_position] = corpus[data_index]\n",
    "            record_position += 1\n",
    "            data_index = (data_index + 1) % corpus_size\n",
    "            word_recorded = False\n",
    "            continue\n",
    "            \n",
    "        for i in range(left_right_index[0], n_left):\n",
    "            if record_position == batch_size:\n",
    "                break\n",
    "            if corpus[data_index - 1 - i] == dictionary[end_signature]:\n",
    "                break\n",
    "            if subsample == True and corpus[data_index-1-i] in subsample_words:\n",
    "                continue\n",
    "            else:\n",
    "                batch[record_position] = corpus[data_index]\n",
    "                labels[record_position] = corpus[data_index - 1 - i]\n",
    "                word_recorded = True\n",
    "                left_right_index[0] += 1\n",
    "                record_position += 1\n",
    "                \n",
    "        for i in range(left_right_index[1], n_right):\n",
    "            if record_position == batch_size:\n",
    "                break\n",
    "            if corpus[data_index + 1 + i] == dictionary[end_signature]:\n",
    "                break\n",
    "            if subsample and corpus[data_index+1+i] in subsample_words:\n",
    "                continue\n",
    "            else:\n",
    "                batch[record_position] = corpus[data_index]\n",
    "                labels[record_position] = corpus[data_index + 1 + i]\n",
    "                word_recorded = True\n",
    "                left_right_index[1] += 1\n",
    "                record_position += 1\n",
    "                 \n",
    "        if not word_recorded:\n",
    "            batch[record_position] = corpus[data_index]\n",
    "            labels[record_position] = corpus[data_index]\n",
    "            record_position += 1\n",
    "        if record_position == batch_size:\n",
    "            break\n",
    "\n",
    "        if subsample:\n",
    "            frequency_ratio = frequency_dictionary[reverse_dictionary[corpus[data_index]]]/corpus_size \n",
    "            probability = subsample_keep_probability(frequency_ratio, parameter = subsample_parameter)\n",
    "            sample = random.uniform(0,1)\n",
    "            if sample > probability:\n",
    "                subsample_words.append(corpus[data_index])\n",
    "        data_index = (data_index + 1) % corpus_size\n",
    "        word_recorded = False\n",
    "        left_right_index = [0,0]\n",
    "    return batch, labels\n",
    "\n",
    "example_batch, example_labels = generate_batch_end_acknowledging_skipgram(numerically_encoded_corpus, \n",
    "                                                                          batch_size = 12)\n",
    "print(\"Example Text:\")\n",
    "for i in range(10):\n",
    "    print(reverse_dictionary[numerically_encoded_corpus[i]], end = \" \")\n",
    "print(\" \")\n",
    "print(\"Example Numerical Word Pairs:\")\n",
    "print(example_batch)\n",
    "print(example_labels)\n",
    "print(\"Example Word Pairs:\")\n",
    "print('Batch 1: ', end = \"\")\n",
    "print([reverse_dictionary[x] for x in example_batch])\n",
    "print('Label 1: ', end = \"\")\n",
    "print([reverse_dictionary[x] for x in example_labels.reshape(12)])"
   ]
  },
  {
   "cell_type": "markdown",
   "metadata": {},
   "source": [
    "### TensorFlow Embedding Graph:\n",
    "\n",
    "Note: The warning is likely due to a dependency in either the `tf.nn.embedding_lookup` function or the `tf.nn.sampled_softmax_loss` function. This will likely dissappear in updated versions of TensorFlow, as these functions are not deprecated themselves and the dependency should have been updated.  \n",
    "\n",
    "We choose an embedding dimension of 128, which will result in 127 degrees of freedom for meaning to be encoded after normalization (see Similarity Search)."
   ]
  },
  {
   "cell_type": "code",
   "execution_count": 10,
   "metadata": {},
   "outputs": [
    {
     "name": "stdout",
     "output_type": "stream",
     "text": [
      "WARNING:tensorflow:From C:\\Users\\hullj\\AppData\\Local\\Continuum\\anaconda2\\envs\\py36\\lib\\site-packages\\tensorflow\\python\\ops\\nn_impl.py:1124: sparse_to_dense (from tensorflow.python.ops.sparse_ops) is deprecated and will be removed in a future version.\n",
      "Instructions for updating:\n",
      "Create a `tf.sparse.SparseTensor` and use `tf.sparse.to_dense` instead.\n"
     ]
    }
   ],
   "source": [
    "vocabulary_size = len(dictionary)\n",
    "embedding_size = 128\n",
    "number_negative_samples = 64\n",
    "batch_size = 128\n",
    "\n",
    "Word2VecSG_graph = tf.Graph()\n",
    "\n",
    "with Word2VecSG_graph.as_default():\n",
    "    # Input: Integer indices of rows to look up. \n",
    "    train_data = tf.placeholder(tf.int32, shape = [batch_size])\n",
    "    train_labels = tf.placeholder(tf.int32, shape = [batch_size,1])\n",
    "    \n",
    "    # Variables\n",
    "    embeddings = tf.Variable(tf.random_uniform([vocabulary_size, embedding_size],\n",
    "                                               minval = -1.0,\n",
    "                                               maxval = 1.0))\n",
    "    softmax_weights = tf.Variable(tf.truncated_normal([vocabulary_size, embedding_size],\n",
    "                                                      stddev = 1.0/math.sqrt(embedding_size)))\n",
    "    softmax_biases = tf.Variable(tf.zeros([vocabulary_size]))\n",
    "    \n",
    "    # Model.\n",
    "    embed = tf.nn.embedding_lookup(embeddings, train_data)\n",
    "    sampled_softmax_loss = tf.nn.sampled_softmax_loss(weights=softmax_weights, \n",
    "                               biases=softmax_biases, \n",
    "                               inputs=embed,\n",
    "                               labels=train_labels, \n",
    "                               num_sampled=number_negative_samples, \n",
    "                               num_classes=vocabulary_size)\n",
    "    \n",
    "    loss = tf.reduce_mean(sampled_softmax_loss)\n",
    "    \n",
    "    # Optimizer.\n",
    "    optimizer = tf.train.AdagradOptimizer(1.0).minimize(loss)\n",
    "    \n",
    "    # Normalized embeddings.\n",
    "    embedding_norm = tf.sqrt(tf.reduce_sum(tf.square(embeddings), 1, keepdims=True))\n",
    "    normalized_embeddings = embeddings/embedding_norm"
   ]
  },
  {
   "cell_type": "markdown",
   "metadata": {},
   "source": [
    "### Training Block:\n",
    "\n",
    "We train by time and report by iterations. \n",
    "\n",
    "The progressive subsampling scheme is implemented by reducing the subsampling parameter by an order of magnitude after every 5 minutes of training. We start with no subsampling and progressively subsample more and more. "
   ]
  },
  {
   "cell_type": "code",
   "execution_count": 12,
   "metadata": {},
   "outputs": [
    {
     "name": "stdout",
     "output_type": "stream",
     "text": [
      "Variables Initialized\n",
      "Average loss at iteration 30000: 3.090946\n",
      "Number of subsampled words: 0\n",
      "Average loss at iteration 60000: 2.742075\n",
      "Number of subsampled words: 0\n",
      "Average loss at iteration 90000: 2.644080\n",
      "Number of subsampled words: 0\n",
      "Average loss at iteration 120000: 2.578989\n",
      "Number of subsampled words: 0\n",
      "Average loss at iteration 150000: 2.539021\n",
      "Number of subsampled words: 0\n",
      "Average loss at iteration 180000: 2.511851\n",
      "Number of subsampled words: 0\n",
      "Average loss at iteration 210000: 2.488385\n",
      "Number of subsampled words: 0\n",
      "Run time: 5.000020 minutes.\n",
      "Subsample Parameter: 0.010000.\n",
      "Average loss at iteration 240000: 2.445445\n",
      "Number of subsampled words: 3\n",
      "Average loss at iteration 270000: 2.235600\n",
      "Number of subsampled words: 3\n",
      "Average loss at iteration 300000: 2.215488\n",
      "Number of subsampled words: 3\n",
      "Average loss at iteration 330000: 2.204399\n",
      "Number of subsampled words: 3\n",
      "Average loss at iteration 360000: 2.194782\n",
      "Number of subsampled words: 3\n",
      "Average loss at iteration 390000: 2.188184\n",
      "Number of subsampled words: 3\n",
      "Average loss at iteration 420000: 2.178382\n",
      "Number of subsampled words: 3\n",
      "Average loss at iteration 450000: 2.174853\n",
      "Number of subsampled words: 3\n",
      "Run time: 10.000011 minutes.\n",
      "Subsample Parameter: 0.001000.\n",
      "Average loss at iteration 480000: 1.346888\n",
      "Number of subsampled words: 54\n",
      "Average loss at iteration 510000: 1.012316\n",
      "Number of subsampled words: 54\n",
      "Average loss at iteration 540000: 0.998225\n",
      "Number of subsampled words: 54\n",
      "Average loss at iteration 570000: 0.988337\n",
      "Number of subsampled words: 54\n",
      "Average loss at iteration 600000: 0.980691\n",
      "Number of subsampled words: 54\n",
      "Average loss at iteration 630000: 0.974818\n",
      "Number of subsampled words: 54\n",
      "Run time: 15.000009 minutes.\n",
      "Subsample Parameter: 0.000100.\n",
      "Average loss at iteration 660000: 0.694857\n",
      "Number of subsampled words: 431\n",
      "Average loss at iteration 690000: 0.051492\n",
      "Number of subsampled words: 431\n",
      "Average loss at iteration 720000: 0.049636\n",
      "Number of subsampled words: 431\n",
      "Average loss at iteration 750000: 0.049053\n",
      "Number of subsampled words: 431\n",
      "Run time: 20.000003 minutes.\n",
      "Subsample Parameter: 0.000010.\n",
      "Average loss at iteration 780000: 0.038654\n",
      "Number of subsampled words: 1784\n",
      "Run time: 25.000048 minutes.\n",
      "Subsample Parameter: 0.000001.\n",
      "Average loss at iteration 810000: 0.006537\n",
      "Number of subsampled words: 5242\n",
      "Run time: 30.000035 minutes.\n",
      "Subsample Parameter: 0.000000.\n",
      "Embedding complete.\n"
     ]
    }
   ],
   "source": [
    "training_time = 30 # minutes\n",
    "report_frequency = 30000 # by iteration\n",
    "\n",
    "# Clear subsampled words before each training session. \n",
    "subsample_words = []\n",
    "\n",
    "# Start with no subsampling then subsample more as time passes. \n",
    "subsample_trigger = False\n",
    "subsample_param = .1\n",
    "\n",
    "with tf.Session(graph = Word2VecSG_graph) as session:\n",
    "    start_time = time.time()\n",
    "    run_time = 0\n",
    "    tf.global_variables_initializer().run()\n",
    "    print('Variables Initialized')\n",
    "    average_loss = 0\n",
    "    iteration = 0\n",
    "    checkpoint = [5., 10., 15., 20., 25., 30., 35.]\n",
    "    checkpoint_index = 0\n",
    "    while run_time < training_time*60:\n",
    "        batch_data, batch_labels = generate_batch_end_acknowledging_skipgram(numerically_encoded_corpus,\n",
    "                                                                            batch_size = batch_size, \n",
    "                                                                            subsample = subsample_trigger,\n",
    "                                                                            subsample_parameter = subsample_param)\n",
    "        feed_dict = {train_data : batch_data, train_labels : batch_labels}\n",
    "        _, l = session.run([optimizer, loss], feed_dict=feed_dict)\n",
    "        run_time = time.time() - start_time\n",
    "        average_loss += l\n",
    "        if iteration % report_frequency == 0 and iteration > 0:\n",
    "            average_loss = average_loss / report_frequency\n",
    "            print('Average loss at iteration %d: %f' % (iteration, average_loss))\n",
    "            print('Number of subsampled words: %d' % len(subsample_words))\n",
    "            average_loss = 0\n",
    "        iteration += 1\n",
    "        if run_time/60 > checkpoint[checkpoint_index]:\n",
    "            run_time_min = run_time/60\n",
    "            print(\"Run time: %f minutes.\" % run_time_min)\n",
    "            subsample_trigger = True\n",
    "            subsample_param = subsample_param*.1\n",
    "            print(\"Subsample Parameter: %f.\" % subsample_param)\n",
    "            checkpoint_index += 1\n",
    "    Word2Vec_embeddings = normalized_embeddings.eval()\n",
    "    print('Embedding complete.')"
   ]
  },
  {
   "cell_type": "markdown",
   "metadata": {},
   "source": [
    "#### Save Embeddings:\n",
    "\n",
    "This code block saves the embeddings, which are just a NumPy matrix where the row vectors correspond to the words given by the dictionary. That is, if `dictionary[word] = n`, then `Word2Vec_embeddings[n] = vector representing word`."
   ]
  },
  {
   "cell_type": "code",
   "execution_count": 14,
   "metadata": {},
   "outputs": [
    {
     "name": "stdout",
     "output_type": "stream",
     "text": [
      "Embeddings saved as: Embed_2019-08-13_22.02.54.npy\n"
     ]
    }
   ],
   "source": [
    "def save_embeddings(embeddings):\n",
    "    file_name = \"Embed_\" + str(datetime.datetime.now())[:19].replace(\" \",\"_\").replace(\":\",\".\")\n",
    "    np.save(file_name, embeddings)\n",
    "    file_name += \".npy\"\n",
    "    print(\"Embeddings saved as: \" + file_name)\n",
    "    return file_name\n",
    "    \n",
    "saved_array = save_embeddings(Word2Vec_embeddings)\n",
    "loaded_embeddings = np.load(saved_array)"
   ]
  },
  {
   "cell_type": "code",
   "execution_count": 15,
   "metadata": {},
   "outputs": [
    {
     "data": {
      "text/plain": [
       "True"
      ]
     },
     "execution_count": 15,
     "metadata": {},
     "output_type": "execute_result"
    }
   ],
   "source": [
    "# Test that embeddings saved correctly.\n",
    "np.array_equal(loaded_embeddings, Word2Vec_embeddings)"
   ]
  },
  {
   "cell_type": "markdown",
   "metadata": {},
   "source": [
    "## TSNE Visualization:\n",
    "\n",
    "The visualization below is a clustered dimension reduction that begins with a principal component analysis.  Here we can see neighborhoods of relevant words, such as drug names, pharmacies, medical centers in North Carolina, and related symptoms and conditions; for example \"migrane\" and \"ha\" appear close to one another which means that most likely, when it appears in this context \"ha\" is an abbreviation for headache, which also appears in the neighborhood of those two words."
   ]
  },
  {
   "cell_type": "code",
   "execution_count": 16,
   "metadata": {},
   "outputs": [
    {
     "data": {
      "image/png": "[encoded data removed]",
      "text/plain": [
       "<Figure size 1080x1080 with 1 Axes>"
      ]
     },
     "metadata": {
      "needs_background": "light"
     },
     "output_type": "display_data"
    }
   ],
   "source": [
    "num_points = 400\n",
    "\n",
    "tsne = TSNE(perplexity=30, n_components=2, init='pca', n_iter=5000, method='exact')\n",
    "two_d_embeddings = tsne.fit_transform(Word2Vec_embeddings[1:num_points+1, :])\n",
    "\n",
    "def plot(embeddings, labels):\n",
    "    assert embeddings.shape[0] >= len(labels), 'More labels than embeddings'\n",
    "    pylab.figure(figsize=(15,15))  # in inches\n",
    "    for i, label in enumerate(labels):\n",
    "        x, y = embeddings[i,:]\n",
    "        pylab.scatter(x, y)\n",
    "        pylab.annotate(label, xy=(x, y), xytext=(5, 2), textcoords='offset points',\n",
    "                   ha='right', va='bottom')\n",
    "    pylab.show()\n",
    "\n",
    "words = [reverse_dictionary[i] for i in range(1, num_points+1)]\n",
    "plot(two_d_embeddings, words)"
   ]
  },
  {
   "cell_type": "markdown",
   "metadata": {},
   "source": [
    "## Similarity Search:\n",
    "\n",
    "The nice thing about using normalized embeddings is that searching for similar word vectors is just a matter of a dot product.  This is beacuse in our case, all of the vectors lie on a sphere in 128 dimensions, so the measure of the distance between any two vectors is given in terms of the angle that they create.  Doing this loses exactly one degree of freedom, since the circle is locally a line, the surface of a sphere is locally a flat plane, etc., so there is still enough complexity to get good results.  Since the vectors lie on a hypersphere, the dot product of any two vectors is essentially the \"cosine\" of the angle they make (hence the frequently used term *cosine similarity*)."
   ]
  },
  {
   "cell_type": "code",
   "execution_count": 17,
   "metadata": {},
   "outputs": [],
   "source": [
    "def sim_search(word, embeddings, n_nearest = 5):\n",
    "    assert word in dictionary.keys(), \"Word not in dictionary.\"\n",
    "    vector = np.transpose(embeddings[dictionary[word]].reshape((1,128)))\n",
    "    sim = np.matmul(embeddings, vector).reshape((vocabulary_size,))\n",
    "    nearest = np.argsort(-sim)[1 : n_nearest + 1]\n",
    "    print(\"Highest similarity to %s:\" % word, end = \" \")\n",
    "    for i in range(len(nearest)-1):\n",
    "        print(reverse_dictionary[nearest[i]], end = \", \")\n",
    "    print(reverse_dictionary[nearest[-1]] + \".\")"
   ]
  },
  {
   "cell_type": "markdown",
   "metadata": {},
   "source": [
    "Below we demonstrate that the embedding vectors have vector norm 1. "
   ]
  },
  {
   "cell_type": "code",
   "execution_count": 18,
   "metadata": {},
   "outputs": [
    {
     "name": "stdout",
     "output_type": "stream",
     "text": [
      "Norm = 1.000000\n",
      "Norm = 1.000000\n",
      "Norm = 1.000000\n",
      "Norm = 1.000000\n",
      "Norm = 1.000000\n",
      "Norm = 1.000000\n",
      "Norm = 1.000000\n",
      "Norm = 1.000000\n",
      "Norm = 1.000000\n",
      "Norm = 1.000000\n"
     ]
    }
   ],
   "source": [
    "for i in range(10):\n",
    "    print(\"Norm = %f\" % np.linalg.norm(Word2Vec_embeddings[i]))"
   ]
  },
  {
   "cell_type": "markdown",
   "metadata": {},
   "source": [
    "And below we run the similarity search on some common words. Some randomness still crops up, but the results show effective similarities in the context of our corpus. "
   ]
  },
  {
   "cell_type": "code",
   "execution_count": 19,
   "metadata": {},
   "outputs": [
    {
     "name": "stdout",
     "output_type": "stream",
     "text": [
      "Highest similarity to paperwork: forms, discrepancy, 556, expediting, original.\n"
     ]
    }
   ],
   "source": [
    "sim_search('paperwork', Word2Vec_embeddings)"
   ]
  },
  {
   "cell_type": "code",
   "execution_count": 20,
   "metadata": {},
   "outputs": [
    {
     "name": "stdout",
     "output_type": "stream",
     "text": [
      "Highest similarity to mom: dad, pt, grandmother, spouse, wife.\n"
     ]
    }
   ],
   "source": [
    "sim_search('mom', Word2Vec_embeddings)"
   ]
  },
  {
   "cell_type": "code",
   "execution_count": 21,
   "metadata": {},
   "outputs": [
    {
     "name": "stdout",
     "output_type": "stream",
     "text": [
      "Highest similarity to sz: szs, seizure, saturday, 20min, grandmal.\n"
     ]
    }
   ],
   "source": [
    "sim_search('sz', Word2Vec_embeddings)"
   ]
  },
  {
   "cell_type": "code",
   "execution_count": 22,
   "metadata": {},
   "outputs": [
    {
     "name": "stdout",
     "output_type": "stream",
     "text": [
      "Highest similarity to rx: script, candesartan, mg, chlordiazepoxide, flexeril.\n"
     ]
    }
   ],
   "source": [
    "sim_search('rx', Word2Vec_embeddings)"
   ]
  },
  {
   "cell_type": "code",
   "execution_count": 23,
   "metadata": {},
   "outputs": [
    {
     "name": "stdout",
     "output_type": "stream",
     "text": [
      "Highest similarity to appt: np, appointment, app, scheduled, appt>.\n"
     ]
    }
   ],
   "source": [
    "sim_search('appt', Word2Vec_embeddings)"
   ]
  },
  {
   "cell_type": "markdown",
   "metadata": {},
   "source": [
    "# NLTK POS Quantization: Feature Engineering for NLP Problems\n",
    "\n",
    "The following feature engineering technique combines parts-of-speech tagging and k-means clustering to quantize (as one would quantize a noisy signal) the vocabulary represented by the word embeddings. The idea here is simple; in the best circumstances, the language used across authors would be uniform. A machine learning algorithm might benifit from the same uniformity while optimizing the parameters in a classification problem. \n",
    "\n",
    "Note: This can be executed for any word embeddings, Word2Vec or otherwise, where the distance metric of KMeans and your vector embeddings are meaningfully similar.  Also, we only quantize nouns here, but quantizing the dictionary for other parts of speech would be just as valid. "
   ]
  },
  {
   "cell_type": "markdown",
   "metadata": {},
   "source": [
    "##### Start by making the corpus a string to be handled by NLTK. "
   ]
  },
  {
   "cell_type": "code",
   "execution_count": 24,
   "metadata": {},
   "outputs": [],
   "source": [
    "text = \"\"\n",
    "for i in range(len(numerically_encoded_corpus)):\n",
    "    if numerically_encoded_corpus[i] != dictionary[end_signature]:\n",
    "        text += \" \" + reverse_dictionary[numerically_encoded_corpus[i]]\n",
    "    else:\n",
    "        text += \".\""
   ]
  },
  {
   "cell_type": "markdown",
   "metadata": {},
   "source": [
    "##### Next we tag the text using the NLTK tagger. "
   ]
  },
  {
   "cell_type": "code",
   "execution_count": 25,
   "metadata": {},
   "outputs": [
    {
     "name": "stdout",
     "output_type": "stream",
     "text": [
      " pt aware that he needs rov for refill. mom wants to know if the focalin needs some dosage adjusting. \n"
     ]
    }
   ],
   "source": [
    "sample_text = text[:102]\n",
    "print(sample_text)"
   ]
  },
  {
   "cell_type": "code",
   "execution_count": 26,
   "metadata": {},
   "outputs": [
    {
     "name": "stderr",
     "output_type": "stream",
     "text": [
      "[nltk_data] Downloading package averaged_perceptron_tagger to\n",
      "[nltk_data]     C:\\Users\\hullj\\AppData\\Roaming\\nltk_data...\n",
      "[nltk_data]   Package averaged_perceptron_tagger is already up-to-\n",
      "[nltk_data]       date!\n",
      "[nltk_data] Downloading package punkt to\n",
      "[nltk_data]     C:\\Users\\hullj\\AppData\\Roaming\\nltk_data...\n",
      "[nltk_data]   Package punkt is already up-to-date!\n"
     ]
    },
    {
     "data": {
      "text/plain": [
       "True"
      ]
     },
     "execution_count": 26,
     "metadata": {},
     "output_type": "execute_result"
    }
   ],
   "source": [
    "nltk.download('averaged_perceptron_tagger')\n",
    "nltk.download('punkt')"
   ]
  },
  {
   "cell_type": "code",
   "execution_count": 27,
   "metadata": {},
   "outputs": [
    {
     "name": "stdout",
     "output_type": "stream",
     "text": [
      "[('pt', 'NN'), ('aware', 'NN'), ('that', 'IN'), ('he', 'PRP'), ('needs', 'VBZ'), ('rov', 'NN'), ('for', 'IN'), ('refill', 'NN'), ('.', '.'), ('mom', 'NN'), ('wants', 'VBZ'), ('to', 'TO'), ('know', 'VB'), ('if', 'IN'), ('the', 'DT'), ('focalin', 'NN'), ('needs', 'VBZ'), ('some', 'DT'), ('dosage', 'NN'), ('adjusting', 'NN'), ('.', '.')]\n"
     ]
    }
   ],
   "source": [
    "tagged_text = nltk.pos_tag(nltk.word_tokenize(text))\n",
    "print(tagged_text[:21])"
   ]
  },
  {
   "cell_type": "markdown",
   "metadata": {},
   "source": [
    "##### Code an algorithm to decide what a noun is according to NLTK. \n",
    "\n",
    "Some words serve different functions by context, e.g. the word \"mail\" is a verb and a noun, and NLTK might mistag some words due to the messy nature of the text (see below \"clld\" which we can deduce from the TSNE visualization means \"called\"). We choose a threshold of 75%, i.e., if a word is tagged as a noun 75% of the time according to NLTK, then it is a noun for our purposes. The output is a list of the noun indices (row positions in the embedding matrix). "
   ]
  },
  {
   "cell_type": "code",
   "execution_count": 28,
   "metadata": {},
   "outputs": [
    {
     "name": "stdout",
     "output_type": "stream",
     "text": [
      "4150 nouns found.\n",
      "pt, rx, phone, note, refill, mom, clld, order, rn, work, today, advise, hydrocodone, letter, pharmacy, pain, status, re, study, req, medication, triage, md, form, cpap, office, question, change, auth, mp, migraine, percocet, lvmtcb, pm, increase, oxycodone, side, home, test, ha, gabapentin, concussion, day, botox, tomorrow, school, m, gilenya, clarification, brain, rxrf, wife, l, vyvanse, tecfidera, script, time, ref, daughter, seizure, rc, pharm, insurance, spouse, approval, recds, esi, info, care, mo, result, message, hull, supply, headache, valium, dad, rathke, focalin, copaxone, disability, wyant, copy, flare, injection, paperwork, smf, bcbs, mail, procedure, methylphenidate, methadone, givre, hospital, ginger, health, review, dosage, npf, clonazepam, "
     ]
    }
   ],
   "source": [
    "def find_noun_indices(tagged_text, threshold = .75):\n",
    "    global dictionary\n",
    "    global frequency_dictionary\n",
    "    noun_indices = []\n",
    "    for key in [*dictionary][1:]:\n",
    "        # List comprehension to gather tags for word.\n",
    "        word_tags = [tag for (word, tag) in tagged_text if word == key]\n",
    "        word_tag_fd = nltk.FreqDist(tag for tag in word_tags)\n",
    "        noun_occurence = word_tag_fd['NN']\n",
    "        total = frequency_dictionary[key]\n",
    "        if noun_occurence/total > threshold:\n",
    "            noun_indices.append(dictionary[key])\n",
    "    return noun_indices\n",
    "\n",
    "nouns = find_noun_indices(tagged_text)\n",
    "\n",
    "print(\"%d nouns found.\" % len(nouns))\n",
    "for i in range(100):\n",
    "    print(reverse_dictionary[nouns[i]], end = \", \")"
   ]
  },
  {
   "cell_type": "markdown",
   "metadata": {},
   "source": [
    "##### Use pandas to create a submatrix that keeps track of the nouns and their original positions in the embedding matrix. \n",
    "\n",
    "This could be done in NumPy, but using Pandas makes it easy and data frames play nice with the SciKit-Learn algorithms.  "
   ]
  },
  {
   "cell_type": "code",
   "execution_count": 29,
   "metadata": {},
   "outputs": [
    {
     "data": {
      "text/html": [
       "<div>\n",
       "<style scoped>\n",
       "    .dataframe tbody tr th:only-of-type {\n",
       "        vertical-align: middle;\n",
       "    }\n",
       "\n",
       "    .dataframe tbody tr th {\n",
       "        vertical-align: top;\n",
       "    }\n",
       "\n",
       "    .dataframe thead th {\n",
       "        text-align: right;\n",
       "    }\n",
       "</style>\n",
       "<table border=\"1\" class=\"dataframe\">\n",
       "  <thead>\n",
       "    <tr style=\"text-align: right;\">\n",
       "      <th></th>\n",
       "      <th>0</th>\n",
       "      <th>1</th>\n",
       "      <th>2</th>\n",
       "      <th>3</th>\n",
       "      <th>4</th>\n",
       "      <th>5</th>\n",
       "      <th>6</th>\n",
       "      <th>7</th>\n",
       "      <th>8</th>\n",
       "      <th>9</th>\n",
       "      <th>...</th>\n",
       "      <th>118</th>\n",
       "      <th>119</th>\n",
       "      <th>120</th>\n",
       "      <th>121</th>\n",
       "      <th>122</th>\n",
       "      <th>123</th>\n",
       "      <th>124</th>\n",
       "      <th>125</th>\n",
       "      <th>126</th>\n",
       "      <th>127</th>\n",
       "    </tr>\n",
       "  </thead>\n",
       "  <tbody>\n",
       "    <tr>\n",
       "      <th>0</th>\n",
       "      <td>-0.126074</td>\n",
       "      <td>0.027931</td>\n",
       "      <td>-0.087600</td>\n",
       "      <td>-0.060830</td>\n",
       "      <td>-0.088584</td>\n",
       "      <td>0.134468</td>\n",
       "      <td>-0.015887</td>\n",
       "      <td>0.060802</td>\n",
       "      <td>-0.123648</td>\n",
       "      <td>0.084555</td>\n",
       "      <td>...</td>\n",
       "      <td>-0.075835</td>\n",
       "      <td>0.101551</td>\n",
       "      <td>0.042050</td>\n",
       "      <td>-0.106045</td>\n",
       "      <td>0.049622</td>\n",
       "      <td>-0.091043</td>\n",
       "      <td>-0.120835</td>\n",
       "      <td>0.062259</td>\n",
       "      <td>-0.058011</td>\n",
       "      <td>0.068177</td>\n",
       "    </tr>\n",
       "    <tr>\n",
       "      <th>1</th>\n",
       "      <td>0.030458</td>\n",
       "      <td>0.105492</td>\n",
       "      <td>-0.042310</td>\n",
       "      <td>0.001044</td>\n",
       "      <td>-0.011342</td>\n",
       "      <td>-0.088055</td>\n",
       "      <td>-0.110638</td>\n",
       "      <td>-0.022793</td>\n",
       "      <td>-0.019762</td>\n",
       "      <td>0.518738</td>\n",
       "      <td>...</td>\n",
       "      <td>-0.023499</td>\n",
       "      <td>0.017461</td>\n",
       "      <td>-0.020016</td>\n",
       "      <td>0.003719</td>\n",
       "      <td>-0.073454</td>\n",
       "      <td>-0.030439</td>\n",
       "      <td>0.090093</td>\n",
       "      <td>0.014462</td>\n",
       "      <td>-0.041745</td>\n",
       "      <td>0.076970</td>\n",
       "    </tr>\n",
       "    <tr>\n",
       "      <th>2</th>\n",
       "      <td>0.009709</td>\n",
       "      <td>-0.060010</td>\n",
       "      <td>-0.067411</td>\n",
       "      <td>-0.018967</td>\n",
       "      <td>-0.096528</td>\n",
       "      <td>-0.339967</td>\n",
       "      <td>0.023067</td>\n",
       "      <td>0.147563</td>\n",
       "      <td>0.018108</td>\n",
       "      <td>0.307569</td>\n",
       "      <td>...</td>\n",
       "      <td>0.045537</td>\n",
       "      <td>-0.051349</td>\n",
       "      <td>0.124980</td>\n",
       "      <td>-0.024079</td>\n",
       "      <td>0.008101</td>\n",
       "      <td>-0.167918</td>\n",
       "      <td>-0.009063</td>\n",
       "      <td>-0.113746</td>\n",
       "      <td>-0.073188</td>\n",
       "      <td>-0.023154</td>\n",
       "    </tr>\n",
       "    <tr>\n",
       "      <th>3</th>\n",
       "      <td>-0.083789</td>\n",
       "      <td>0.028061</td>\n",
       "      <td>-0.017564</td>\n",
       "      <td>0.119852</td>\n",
       "      <td>-0.049593</td>\n",
       "      <td>0.078778</td>\n",
       "      <td>-0.006203</td>\n",
       "      <td>-0.053420</td>\n",
       "      <td>0.174603</td>\n",
       "      <td>0.105106</td>\n",
       "      <td>...</td>\n",
       "      <td>0.008724</td>\n",
       "      <td>0.033960</td>\n",
       "      <td>-0.120780</td>\n",
       "      <td>-0.017183</td>\n",
       "      <td>0.077757</td>\n",
       "      <td>-0.178741</td>\n",
       "      <td>-0.038747</td>\n",
       "      <td>-0.056440</td>\n",
       "      <td>0.064137</td>\n",
       "      <td>0.052549</td>\n",
       "    </tr>\n",
       "    <tr>\n",
       "      <th>4</th>\n",
       "      <td>-0.058221</td>\n",
       "      <td>-0.050996</td>\n",
       "      <td>0.109315</td>\n",
       "      <td>-0.024005</td>\n",
       "      <td>0.043083</td>\n",
       "      <td>0.031438</td>\n",
       "      <td>-0.067145</td>\n",
       "      <td>-0.056420</td>\n",
       "      <td>-0.013581</td>\n",
       "      <td>0.030914</td>\n",
       "      <td>...</td>\n",
       "      <td>-0.040922</td>\n",
       "      <td>0.007084</td>\n",
       "      <td>0.027455</td>\n",
       "      <td>-0.001493</td>\n",
       "      <td>-0.152721</td>\n",
       "      <td>-0.074218</td>\n",
       "      <td>0.083211</td>\n",
       "      <td>-0.090367</td>\n",
       "      <td>0.149051</td>\n",
       "      <td>0.073316</td>\n",
       "    </tr>\n",
       "  </tbody>\n",
       "</table>\n",
       "<p>5 rows × 128 columns</p>\n",
       "</div>"
      ],
      "text/plain": [
       "        0         1         2         3         4         5         6    \\\n",
       "0 -0.126074  0.027931 -0.087600 -0.060830 -0.088584  0.134468 -0.015887   \n",
       "1  0.030458  0.105492 -0.042310  0.001044 -0.011342 -0.088055 -0.110638   \n",
       "2  0.009709 -0.060010 -0.067411 -0.018967 -0.096528 -0.339967  0.023067   \n",
       "3 -0.083789  0.028061 -0.017564  0.119852 -0.049593  0.078778 -0.006203   \n",
       "4 -0.058221 -0.050996  0.109315 -0.024005  0.043083  0.031438 -0.067145   \n",
       "\n",
       "        7         8         9      ...          118       119       120  \\\n",
       "0  0.060802 -0.123648  0.084555    ...    -0.075835  0.101551  0.042050   \n",
       "1 -0.022793 -0.019762  0.518738    ...    -0.023499  0.017461 -0.020016   \n",
       "2  0.147563  0.018108  0.307569    ...     0.045537 -0.051349  0.124980   \n",
       "3 -0.053420  0.174603  0.105106    ...     0.008724  0.033960 -0.120780   \n",
       "4 -0.056420 -0.013581  0.030914    ...    -0.040922  0.007084  0.027455   \n",
       "\n",
       "        121       122       123       124       125       126       127  \n",
       "0 -0.106045  0.049622 -0.091043 -0.120835  0.062259 -0.058011  0.068177  \n",
       "1  0.003719 -0.073454 -0.030439  0.090093  0.014462 -0.041745  0.076970  \n",
       "2 -0.024079  0.008101 -0.167918 -0.009063 -0.113746 -0.073188 -0.023154  \n",
       "3 -0.017183  0.077757 -0.178741 -0.038747 -0.056440  0.064137  0.052549  \n",
       "4 -0.001493 -0.152721 -0.074218  0.083211 -0.090367  0.149051  0.073316  \n",
       "\n",
       "[5 rows x 128 columns]"
      ]
     },
     "execution_count": 29,
     "metadata": {},
     "output_type": "execute_result"
    }
   ],
   "source": [
    "embeddings_df = pd.DataFrame(data=Word2Vec_embeddings)\n",
    "embeddings_df.head()"
   ]
  },
  {
   "cell_type": "code",
   "execution_count": 30,
   "metadata": {},
   "outputs": [
    {
     "data": {
      "text/html": [
       "<div>\n",
       "<style scoped>\n",
       "    .dataframe tbody tr th:only-of-type {\n",
       "        vertical-align: middle;\n",
       "    }\n",
       "\n",
       "    .dataframe tbody tr th {\n",
       "        vertical-align: top;\n",
       "    }\n",
       "\n",
       "    .dataframe thead th {\n",
       "        text-align: right;\n",
       "    }\n",
       "</style>\n",
       "<table border=\"1\" class=\"dataframe\">\n",
       "  <thead>\n",
       "    <tr style=\"text-align: right;\">\n",
       "      <th></th>\n",
       "      <th>0</th>\n",
       "      <th>1</th>\n",
       "      <th>2</th>\n",
       "      <th>3</th>\n",
       "      <th>4</th>\n",
       "      <th>5</th>\n",
       "      <th>6</th>\n",
       "      <th>7</th>\n",
       "      <th>8</th>\n",
       "      <th>9</th>\n",
       "      <th>...</th>\n",
       "      <th>118</th>\n",
       "      <th>119</th>\n",
       "      <th>120</th>\n",
       "      <th>121</th>\n",
       "      <th>122</th>\n",
       "      <th>123</th>\n",
       "      <th>124</th>\n",
       "      <th>125</th>\n",
       "      <th>126</th>\n",
       "      <th>127</th>\n",
       "    </tr>\n",
       "  </thead>\n",
       "  <tbody>\n",
       "    <tr>\n",
       "      <th>3</th>\n",
       "      <td>-0.083789</td>\n",
       "      <td>0.028061</td>\n",
       "      <td>-0.017564</td>\n",
       "      <td>0.119852</td>\n",
       "      <td>-0.049593</td>\n",
       "      <td>0.078778</td>\n",
       "      <td>-0.006203</td>\n",
       "      <td>-0.053420</td>\n",
       "      <td>0.174603</td>\n",
       "      <td>0.105106</td>\n",
       "      <td>...</td>\n",
       "      <td>0.008724</td>\n",
       "      <td>0.033960</td>\n",
       "      <td>-0.120780</td>\n",
       "      <td>-0.017183</td>\n",
       "      <td>0.077757</td>\n",
       "      <td>-0.178741</td>\n",
       "      <td>-0.038747</td>\n",
       "      <td>-0.056440</td>\n",
       "      <td>0.064137</td>\n",
       "      <td>0.052549</td>\n",
       "    </tr>\n",
       "    <tr>\n",
       "      <th>4</th>\n",
       "      <td>-0.058221</td>\n",
       "      <td>-0.050996</td>\n",
       "      <td>0.109315</td>\n",
       "      <td>-0.024005</td>\n",
       "      <td>0.043083</td>\n",
       "      <td>0.031438</td>\n",
       "      <td>-0.067145</td>\n",
       "      <td>-0.056420</td>\n",
       "      <td>-0.013581</td>\n",
       "      <td>0.030914</td>\n",
       "      <td>...</td>\n",
       "      <td>-0.040922</td>\n",
       "      <td>0.007084</td>\n",
       "      <td>0.027455</td>\n",
       "      <td>-0.001493</td>\n",
       "      <td>-0.152721</td>\n",
       "      <td>-0.074218</td>\n",
       "      <td>0.083211</td>\n",
       "      <td>-0.090367</td>\n",
       "      <td>0.149051</td>\n",
       "      <td>0.073316</td>\n",
       "    </tr>\n",
       "    <tr>\n",
       "      <th>11</th>\n",
       "      <td>0.023455</td>\n",
       "      <td>-0.149180</td>\n",
       "      <td>0.076367</td>\n",
       "      <td>0.247060</td>\n",
       "      <td>-0.090886</td>\n",
       "      <td>-0.124423</td>\n",
       "      <td>-0.018578</td>\n",
       "      <td>-0.169709</td>\n",
       "      <td>0.010874</td>\n",
       "      <td>-0.049567</td>\n",
       "      <td>...</td>\n",
       "      <td>-0.039916</td>\n",
       "      <td>-0.002660</td>\n",
       "      <td>-0.020699</td>\n",
       "      <td>-0.046175</td>\n",
       "      <td>0.180645</td>\n",
       "      <td>-0.137126</td>\n",
       "      <td>0.087813</td>\n",
       "      <td>-0.007152</td>\n",
       "      <td>-0.010825</td>\n",
       "      <td>0.069393</td>\n",
       "    </tr>\n",
       "    <tr>\n",
       "      <th>12</th>\n",
       "      <td>0.024167</td>\n",
       "      <td>-0.093412</td>\n",
       "      <td>-0.060024</td>\n",
       "      <td>-0.056858</td>\n",
       "      <td>0.029168</td>\n",
       "      <td>-0.103976</td>\n",
       "      <td>0.032742</td>\n",
       "      <td>-0.083947</td>\n",
       "      <td>-0.005344</td>\n",
       "      <td>0.086255</td>\n",
       "      <td>...</td>\n",
       "      <td>-0.133435</td>\n",
       "      <td>0.014344</td>\n",
       "      <td>-0.018743</td>\n",
       "      <td>-0.036212</td>\n",
       "      <td>0.104594</td>\n",
       "      <td>-0.038258</td>\n",
       "      <td>0.079507</td>\n",
       "      <td>-0.096031</td>\n",
       "      <td>-0.072118</td>\n",
       "      <td>-0.060281</td>\n",
       "    </tr>\n",
       "    <tr>\n",
       "      <th>14</th>\n",
       "      <td>-0.000896</td>\n",
       "      <td>0.085293</td>\n",
       "      <td>0.059552</td>\n",
       "      <td>-0.146211</td>\n",
       "      <td>-0.047950</td>\n",
       "      <td>-0.025239</td>\n",
       "      <td>0.054745</td>\n",
       "      <td>-0.044311</td>\n",
       "      <td>0.001215</td>\n",
       "      <td>-0.024470</td>\n",
       "      <td>...</td>\n",
       "      <td>-0.047585</td>\n",
       "      <td>-0.042306</td>\n",
       "      <td>-0.001134</td>\n",
       "      <td>-0.019041</td>\n",
       "      <td>-0.021685</td>\n",
       "      <td>-0.002463</td>\n",
       "      <td>-0.018029</td>\n",
       "      <td>0.013790</td>\n",
       "      <td>0.162953</td>\n",
       "      <td>0.000370</td>\n",
       "    </tr>\n",
       "  </tbody>\n",
       "</table>\n",
       "<p>5 rows × 128 columns</p>\n",
       "</div>"
      ],
      "text/plain": [
       "         0         1         2         3         4         5         6    \\\n",
       "3  -0.083789  0.028061 -0.017564  0.119852 -0.049593  0.078778 -0.006203   \n",
       "4  -0.058221 -0.050996  0.109315 -0.024005  0.043083  0.031438 -0.067145   \n",
       "11  0.023455 -0.149180  0.076367  0.247060 -0.090886 -0.124423 -0.018578   \n",
       "12  0.024167 -0.093412 -0.060024 -0.056858  0.029168 -0.103976  0.032742   \n",
       "14 -0.000896  0.085293  0.059552 -0.146211 -0.047950 -0.025239  0.054745   \n",
       "\n",
       "         7         8         9      ...          118       119       120  \\\n",
       "3  -0.053420  0.174603  0.105106    ...     0.008724  0.033960 -0.120780   \n",
       "4  -0.056420 -0.013581  0.030914    ...    -0.040922  0.007084  0.027455   \n",
       "11 -0.169709  0.010874 -0.049567    ...    -0.039916 -0.002660 -0.020699   \n",
       "12 -0.083947 -0.005344  0.086255    ...    -0.133435  0.014344 -0.018743   \n",
       "14 -0.044311  0.001215 -0.024470    ...    -0.047585 -0.042306 -0.001134   \n",
       "\n",
       "         121       122       123       124       125       126       127  \n",
       "3  -0.017183  0.077757 -0.178741 -0.038747 -0.056440  0.064137  0.052549  \n",
       "4  -0.001493 -0.152721 -0.074218  0.083211 -0.090367  0.149051  0.073316  \n",
       "11 -0.046175  0.180645 -0.137126  0.087813 -0.007152 -0.010825  0.069393  \n",
       "12 -0.036212  0.104594 -0.038258  0.079507 -0.096031 -0.072118 -0.060281  \n",
       "14 -0.019041 -0.021685 -0.002463 -0.018029  0.013790  0.162953  0.000370  \n",
       "\n",
       "[5 rows x 128 columns]"
      ]
     },
     "execution_count": 30,
     "metadata": {},
     "output_type": "execute_result"
    }
   ],
   "source": [
    "noun_vectors = embeddings_df.loc[nouns,:]\n",
    "noun_vectors.head()"
   ]
  },
  {
   "cell_type": "markdown",
   "metadata": {},
   "source": [
    "##### Run clustering on this submatrix.\n",
    "\n",
    "An example of vector indices clustered about a given centroid is shown. "
   ]
  },
  {
   "cell_type": "code",
   "execution_count": 31,
   "metadata": {},
   "outputs": [
    {
     "name": "stdout",
     "output_type": "stream",
     "text": [
      "[1015, 2520, 3644]\n"
     ]
    }
   ],
   "source": [
    "cluster = KMeans(n_clusters = 1000).fit(noun_vectors)\n",
    "centroids = cluster.cluster_centers_\n",
    "labels = cluster.labels_\n",
    "\n",
    "# Example list comprehension to get indices of cluster class. \n",
    "\n",
    "listed = [n for n in range(len(nouns)) if labels[n] == 459]\n",
    "print(listed)"
   ]
  },
  {
   "cell_type": "markdown",
   "metadata": {},
   "source": [
    "##### Build a thesaurus.\n",
    "\n",
    "This thesaurus is simply a dict that maps the number representing a word to the number representing the quantized class in which it resides. "
   ]
  },
  {
   "cell_type": "code",
   "execution_count": 32,
   "metadata": {},
   "outputs": [],
   "source": [
    "thesaurus = {}\n",
    "for i in range(len(centroids)):\n",
    "    member_indices = [n for n in range(len(nouns)) if labels[n] == i]\n",
    "    for j in range(len(member_indices)):\n",
    "        thesaurus[noun_vectors.iloc[member_indices[j]].name] = noun_vectors.iloc[member_indices[0]].name"
   ]
  },
  {
   "cell_type": "markdown",
   "metadata": {},
   "source": [
    "Below is an example of the thesaurus applied to a quantized class of nouns. "
   ]
  },
  {
   "cell_type": "code",
   "execution_count": 50,
   "metadata": {},
   "outputs": [
    {
     "name": "stdout",
     "output_type": "stream",
     "text": [
      "anxiety\n",
      "844\n",
      "844\n",
      "adivse\n",
      "2069\n",
      "844\n",
      "tongue\n",
      "2436\n",
      "844\n",
      "insomnia\n",
      "2682\n",
      "844\n",
      "paula\n",
      "8817\n",
      "844\n",
      "flash\n",
      "10101\n",
      "844\n"
     ]
    }
   ],
   "source": [
    "test_list = [n for n in range(len(nouns)) if labels[n] == 16]\n",
    "for i in range(len(test_list)):\n",
    "    print(reverse_dictionary[noun_vectors.iloc[test_list[i]].name])\n",
    "    print(noun_vectors.iloc[test_list[i]].name)\n",
    "    print(thesaurus[noun_vectors.iloc[test_list[i]].name])"
   ]
  },
  {
   "cell_type": "markdown",
   "metadata": {},
   "source": [
    "##### Make a quantized dictionary.\n",
    "\n",
    "This qauntized dictionary is a mapping `quantized_dictionary[word] = n'` where `Word2Vec_embeddings[n'] = vector representing quantized class`."
   ]
  },
  {
   "cell_type": "code",
   "execution_count": 51,
   "metadata": {},
   "outputs": [],
   "source": [
    "quantized_dictionary = {}\n",
    "for key in dictionary.keys():\n",
    "    if dictionary[key] in nouns:\n",
    "        quantized_dictionary[key] = thesaurus[dictionary[key]]\n",
    "    else:\n",
    "        quantized_dictionary[key] = dictionary[key]"
   ]
  },
  {
   "cell_type": "markdown",
   "metadata": {},
   "source": [
    "Now when preparing text for say an LSTM classifier, one can use the quantized dictionary in relation to the text so that only one representative synonym vector is called. \n",
    "\n",
    "As per the example above, if the words anxiety, adivse, tongue, insomnia, paula, or flashare encountered, they will all be encoded as the word vector at row index 844 of the embedding matrix (which is the word vector for \"anxiety\" in the embeddings). \n",
    "\n",
    "Note: Again, one needn't create ones own embeddings for this to work. You can still use NLTK to classify nouns (or other parts of speech) in the corpus of your problem, select those vectors, and then go through the same substitution process.  That is, POS quantization is possible with the popular pretrained embeddings as well. "
   ]
  }
 ],
 "metadata": {
  "kernelspec": {
   "display_name": "Python 3",
   "language": "python",
   "name": "python3"
  },
  "language_info": {
   "codemirror_mode": {
    "name": "ipython",
    "version": 3
   },
   "file_extension": ".py",
   "mimetype": "text/x-python",
   "name": "python",
   "nbconvert_exporter": "python",
   "pygments_lexer": "ipython3",
   "version": "3.6.7"
  }
 },
 "nbformat": 4,
 "nbformat_minor": 2
}
